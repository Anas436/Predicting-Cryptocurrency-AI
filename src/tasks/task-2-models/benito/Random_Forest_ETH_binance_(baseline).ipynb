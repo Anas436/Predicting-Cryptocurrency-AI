{
  "nbformat": 4,
  "nbformat_minor": 0,
  "metadata": {
    "colab": {
      "provenance": [],
      "gpuType": "T4",
      "collapsed_sections": [
        "rgQgYuXSAoz7",
        "BB929Pzb7UuB",
        "6kJZWLC9BHIQ"
      ]
    },
    "kernelspec": {
      "name": "python3",
      "display_name": "Python 3"
    },
    "language_info": {
      "name": "python"
    },
    "accelerator": "GPU"
  },
  "cells": [
    {
      "cell_type": "markdown",
      "source": [
        "# Mount Drive"
      ],
      "metadata": {
        "id": "5G3jKhIkEVrE"
      }
    },
    {
      "cell_type": "code",
      "source": [
        "from google.colab import drive\n",
        "drive.mount('/content/drive')"
      ],
      "metadata": {
        "colab": {
          "base_uri": "https://localhost:8080/"
        },
        "id": "YDLqicmGEnBR",
        "outputId": "4c98820c-7e7d-423a-d6e7-ae1afe31a588"
      },
      "execution_count": 4,
      "outputs": [
        {
          "output_type": "stream",
          "name": "stdout",
          "text": [
            "Drive already mounted at /content/drive; to attempt to forcibly remount, call drive.mount(\"/content/drive\", force_remount=True).\n"
          ]
        }
      ]
    },
    {
      "cell_type": "markdown",
      "source": [
        "# Install libraries"
      ],
      "metadata": {
        "id": "ZsFo9lg_3ZQg"
      }
    },
    {
      "cell_type": "code",
      "source": [],
      "metadata": {
        "id": "GRSwneAq_29t"
      },
      "execution_count": null,
      "outputs": []
    },
    {
      "cell_type": "markdown",
      "source": [
        "# Import Libraries"
      ],
      "metadata": {
        "id": "cfiJuMV7AjPk"
      }
    },
    {
      "cell_type": "code",
      "execution_count": 6,
      "metadata": {
        "id": "BFrpy0jt8WXh"
      },
      "outputs": [],
      "source": [
        "#Load the required libraries\n",
        "\n",
        "import pandas as pd\n",
        "import numpy as np\n",
        "from datetime import datetime\n",
        "\n",
        "import seaborn as sns\n",
        "import matplotlib.pyplot as plt\n",
        "# import plotly.express as px\n",
        "# import plotly.graph_objects as go\n",
        "plt.style.use('seaborn-v0_8-darkgrid')\n",
        "\n",
        "\n",
        "from sklearn.metrics import mean_absolute_error, mean_squared_error,r2_score\n",
        "\n",
        "import joblib\n",
        "\n",
        "\n",
        "# import prophet\n",
        "# from prophet import Prophet\n",
        "# from prophet.plot import plot_plotly, plot_components_plotly\n",
        "# from prophet.plot import add_changepoints_to_plot\n",
        "\n",
        "from sklearn.preprocessing import MinMaxScaler\n",
        "from sklearn.model_selection import RandomizedSearchCV, GridSearchCV\n",
        "from sklearn.ensemble import RandomForestRegressor\n",
        "\n",
        "# import xgboost as xgb\n",
        "# from xgboost import plot_importance, plot_tree\n",
        "\n",
        "# import tensorflow as tf\n",
        "# from keras.models import Sequential,load_model\n",
        "# from keras.layers import Dropout, Dense, LSTM, GRU\n",
        "# from keras.callbacks import ModelCheckpoint, EarlyStopping, LearningRateScheduler\n",
        "\n",
        "\n",
        "from pylab import rcParams\n",
        "rcParams['figure.figsize'] = 14, 8\n",
        "\n",
        "\n",
        "# from matplotlib import rc\n",
        "\n",
        "# sns.set(style='whitegrid', palette='muted', font_scale=1.5)\n",
        "\n",
        "# RANDOM_SEED = 42\n",
        "\n",
        "# np.random.seed(RANDOM_SEED)"
      ]
    },
    {
      "cell_type": "markdown",
      "source": [
        "# Import Data"
      ],
      "metadata": {
        "id": "rgQgYuXSAoz7"
      }
    },
    {
      "cell_type": "code",
      "source": [
        "data_ETH = pd.read_csv(\"/content/drive/MyDrive/Colab Notebooks/01 Omdena/Bahrain - Crypto/Project_Data/binance/ETHUSDT_merged.csv\")"
      ],
      "metadata": {
        "id": "HzN89euZ8xfW"
      },
      "execution_count": 7,
      "outputs": []
    },
    {
      "cell_type": "code",
      "source": [
        "data_ETH.head()"
      ],
      "metadata": {
        "colab": {
          "base_uri": "https://localhost:8080/",
          "height": 206
        },
        "id": "a2A4FMbpXz2Q",
        "outputId": "57c046af-bfae-4423-ab77-cae6627af4cc"
      },
      "execution_count": 8,
      "outputs": [
        {
          "output_type": "execute_result",
          "data": {
            "text/plain": [
              "             open_time    open    high     low   close      volume  \\\n",
              "0  2019-09-01 00:00:00  171.52  172.89  171.36  172.45  5981.16399   \n",
              "1  2019-09-01 01:00:00  172.47  173.42  172.41  172.71  7929.54701   \n",
              "2  2019-09-01 02:00:00  172.67  172.97  172.02  172.43  2650.04457   \n",
              "3  2019-09-01 03:00:00  172.41  172.83  172.32  172.57  2676.49085   \n",
              "4  2019-09-01 04:00:00  172.50  172.74  172.11  172.46  2596.85893   \n",
              "\n",
              "                close_time  quote_volume  count  taker_buy_volume  \\\n",
              "0  2019-09-01 00:59:59.999  1.030126e+06   3753        3576.32332   \n",
              "1  2019-09-01 01:59:59.999  1.372183e+06   3310        5532.93656   \n",
              "2  2019-09-01 02:59:59.999  4.568114e+05   2666        1333.25886   \n",
              "3  2019-09-01 03:59:59.999  4.618308e+05   2612        1445.60395   \n",
              "4  2019-09-01 04:59:59.999  4.476401e+05   2848        1524.31952   \n",
              "\n",
              "   taker_buy_quote_volume  \n",
              "0           615886.585686  \n",
              "1           957301.238661  \n",
              "2           229852.921103  \n",
              "3           249450.124375  \n",
              "4           262782.612091  "
            ],
            "text/html": [
              "\n",
              "  <div id=\"df-09a0a014-964f-47fc-ae05-6a1cacd9d9f4\">\n",
              "    <div class=\"colab-df-container\">\n",
              "      <div>\n",
              "<style scoped>\n",
              "    .dataframe tbody tr th:only-of-type {\n",
              "        vertical-align: middle;\n",
              "    }\n",
              "\n",
              "    .dataframe tbody tr th {\n",
              "        vertical-align: top;\n",
              "    }\n",
              "\n",
              "    .dataframe thead th {\n",
              "        text-align: right;\n",
              "    }\n",
              "</style>\n",
              "<table border=\"1\" class=\"dataframe\">\n",
              "  <thead>\n",
              "    <tr style=\"text-align: right;\">\n",
              "      <th></th>\n",
              "      <th>open_time</th>\n",
              "      <th>open</th>\n",
              "      <th>high</th>\n",
              "      <th>low</th>\n",
              "      <th>close</th>\n",
              "      <th>volume</th>\n",
              "      <th>close_time</th>\n",
              "      <th>quote_volume</th>\n",
              "      <th>count</th>\n",
              "      <th>taker_buy_volume</th>\n",
              "      <th>taker_buy_quote_volume</th>\n",
              "    </tr>\n",
              "  </thead>\n",
              "  <tbody>\n",
              "    <tr>\n",
              "      <th>0</th>\n",
              "      <td>2019-09-01 00:00:00</td>\n",
              "      <td>171.52</td>\n",
              "      <td>172.89</td>\n",
              "      <td>171.36</td>\n",
              "      <td>172.45</td>\n",
              "      <td>5981.16399</td>\n",
              "      <td>2019-09-01 00:59:59.999</td>\n",
              "      <td>1.030126e+06</td>\n",
              "      <td>3753</td>\n",
              "      <td>3576.32332</td>\n",
              "      <td>615886.585686</td>\n",
              "    </tr>\n",
              "    <tr>\n",
              "      <th>1</th>\n",
              "      <td>2019-09-01 01:00:00</td>\n",
              "      <td>172.47</td>\n",
              "      <td>173.42</td>\n",
              "      <td>172.41</td>\n",
              "      <td>172.71</td>\n",
              "      <td>7929.54701</td>\n",
              "      <td>2019-09-01 01:59:59.999</td>\n",
              "      <td>1.372183e+06</td>\n",
              "      <td>3310</td>\n",
              "      <td>5532.93656</td>\n",
              "      <td>957301.238661</td>\n",
              "    </tr>\n",
              "    <tr>\n",
              "      <th>2</th>\n",
              "      <td>2019-09-01 02:00:00</td>\n",
              "      <td>172.67</td>\n",
              "      <td>172.97</td>\n",
              "      <td>172.02</td>\n",
              "      <td>172.43</td>\n",
              "      <td>2650.04457</td>\n",
              "      <td>2019-09-01 02:59:59.999</td>\n",
              "      <td>4.568114e+05</td>\n",
              "      <td>2666</td>\n",
              "      <td>1333.25886</td>\n",
              "      <td>229852.921103</td>\n",
              "    </tr>\n",
              "    <tr>\n",
              "      <th>3</th>\n",
              "      <td>2019-09-01 03:00:00</td>\n",
              "      <td>172.41</td>\n",
              "      <td>172.83</td>\n",
              "      <td>172.32</td>\n",
              "      <td>172.57</td>\n",
              "      <td>2676.49085</td>\n",
              "      <td>2019-09-01 03:59:59.999</td>\n",
              "      <td>4.618308e+05</td>\n",
              "      <td>2612</td>\n",
              "      <td>1445.60395</td>\n",
              "      <td>249450.124375</td>\n",
              "    </tr>\n",
              "    <tr>\n",
              "      <th>4</th>\n",
              "      <td>2019-09-01 04:00:00</td>\n",
              "      <td>172.50</td>\n",
              "      <td>172.74</td>\n",
              "      <td>172.11</td>\n",
              "      <td>172.46</td>\n",
              "      <td>2596.85893</td>\n",
              "      <td>2019-09-01 04:59:59.999</td>\n",
              "      <td>4.476401e+05</td>\n",
              "      <td>2848</td>\n",
              "      <td>1524.31952</td>\n",
              "      <td>262782.612091</td>\n",
              "    </tr>\n",
              "  </tbody>\n",
              "</table>\n",
              "</div>\n",
              "      <button class=\"colab-df-convert\" onclick=\"convertToInteractive('df-09a0a014-964f-47fc-ae05-6a1cacd9d9f4')\"\n",
              "              title=\"Convert this dataframe to an interactive table.\"\n",
              "              style=\"display:none;\">\n",
              "        \n",
              "  <svg xmlns=\"http://www.w3.org/2000/svg\" height=\"24px\"viewBox=\"0 0 24 24\"\n",
              "       width=\"24px\">\n",
              "    <path d=\"M0 0h24v24H0V0z\" fill=\"none\"/>\n",
              "    <path d=\"M18.56 5.44l.94 2.06.94-2.06 2.06-.94-2.06-.94-.94-2.06-.94 2.06-2.06.94zm-11 1L8.5 8.5l.94-2.06 2.06-.94-2.06-.94L8.5 2.5l-.94 2.06-2.06.94zm10 10l.94 2.06.94-2.06 2.06-.94-2.06-.94-.94-2.06-.94 2.06-2.06.94z\"/><path d=\"M17.41 7.96l-1.37-1.37c-.4-.4-.92-.59-1.43-.59-.52 0-1.04.2-1.43.59L10.3 9.45l-7.72 7.72c-.78.78-.78 2.05 0 2.83L4 21.41c.39.39.9.59 1.41.59.51 0 1.02-.2 1.41-.59l7.78-7.78 2.81-2.81c.8-.78.8-2.07 0-2.86zM5.41 20L4 18.59l7.72-7.72 1.47 1.35L5.41 20z\"/>\n",
              "  </svg>\n",
              "      </button>\n",
              "      \n",
              "  <style>\n",
              "    .colab-df-container {\n",
              "      display:flex;\n",
              "      flex-wrap:wrap;\n",
              "      gap: 12px;\n",
              "    }\n",
              "\n",
              "    .colab-df-convert {\n",
              "      background-color: #E8F0FE;\n",
              "      border: none;\n",
              "      border-radius: 50%;\n",
              "      cursor: pointer;\n",
              "      display: none;\n",
              "      fill: #1967D2;\n",
              "      height: 32px;\n",
              "      padding: 0 0 0 0;\n",
              "      width: 32px;\n",
              "    }\n",
              "\n",
              "    .colab-df-convert:hover {\n",
              "      background-color: #E2EBFA;\n",
              "      box-shadow: 0px 1px 2px rgba(60, 64, 67, 0.3), 0px 1px 3px 1px rgba(60, 64, 67, 0.15);\n",
              "      fill: #174EA6;\n",
              "    }\n",
              "\n",
              "    [theme=dark] .colab-df-convert {\n",
              "      background-color: #3B4455;\n",
              "      fill: #D2E3FC;\n",
              "    }\n",
              "\n",
              "    [theme=dark] .colab-df-convert:hover {\n",
              "      background-color: #434B5C;\n",
              "      box-shadow: 0px 1px 3px 1px rgba(0, 0, 0, 0.15);\n",
              "      filter: drop-shadow(0px 1px 2px rgba(0, 0, 0, 0.3));\n",
              "      fill: #FFFFFF;\n",
              "    }\n",
              "  </style>\n",
              "\n",
              "      <script>\n",
              "        const buttonEl =\n",
              "          document.querySelector('#df-09a0a014-964f-47fc-ae05-6a1cacd9d9f4 button.colab-df-convert');\n",
              "        buttonEl.style.display =\n",
              "          google.colab.kernel.accessAllowed ? 'block' : 'none';\n",
              "\n",
              "        async function convertToInteractive(key) {\n",
              "          const element = document.querySelector('#df-09a0a014-964f-47fc-ae05-6a1cacd9d9f4');\n",
              "          const dataTable =\n",
              "            await google.colab.kernel.invokeFunction('convertToInteractive',\n",
              "                                                     [key], {});\n",
              "          if (!dataTable) return;\n",
              "\n",
              "          const docLinkHtml = 'Like what you see? Visit the ' +\n",
              "            '<a target=\"_blank\" href=https://colab.research.google.com/notebooks/data_table.ipynb>data table notebook</a>'\n",
              "            + ' to learn more about interactive tables.';\n",
              "          element.innerHTML = '';\n",
              "          dataTable['output_type'] = 'display_data';\n",
              "          await google.colab.output.renderOutput(dataTable, element);\n",
              "          const docLink = document.createElement('div');\n",
              "          docLink.innerHTML = docLinkHtml;\n",
              "          element.appendChild(docLink);\n",
              "        }\n",
              "      </script>\n",
              "    </div>\n",
              "  </div>\n",
              "  "
            ]
          },
          "metadata": {},
          "execution_count": 8
        }
      ]
    },
    {
      "cell_type": "markdown",
      "source": [
        "Here's a breakdown of each feature:\n",
        "\n",
        "- **open_time**: This represents the opening time of a specific period in Unix time format. Unix time is a way to represent time as the number of seconds that have elapsed since January 1, 1970.\n",
        "\n",
        "- **open**: This refers to the opening price of the trading instrument at the given period.\n",
        "\n",
        "- **high**: This represents the highest price reached by the trading instrument during the specified period.\n",
        "\n",
        "- **low**: This denotes the lowest price reached by the trading instrument during the specified period.\n",
        "\n",
        "- **close**: This indicates the closing price of the trading instrument at the given period.\n",
        "\n",
        "- **volume**: This refers to the total volume, typically the quantity of the trading instrument, traded during the specified period.\n",
        "\n",
        "- **close_time**: This represents the closing time of the specific period in Unix time format.\n",
        "\n",
        "- **quote_volume**: This refers to the total volume in terms of the quote asset. The quote asset is the asset used to determine the value of the trading instrument.\n",
        "\n",
        "- **count**: This represents the number of trades that occurred during the specified period.\n",
        "\n",
        "- **taker_buy_volume**: This denotes the volume of the quote asset bought by takers (market takers) during the specified period.\n",
        "\n",
        "- **taker_buy_quote_volume**: This represents the volume of the base asset bought by takers (market takers) during the specified period."
      ],
      "metadata": {
        "id": "VtonmnjpZgov"
      }
    },
    {
      "cell_type": "code",
      "source": [
        "# Renaming the columns to match the name in the previous notebook with bitstamp data so that I do not have to change the whole code\n",
        "data_ETH.rename(columns = {'open_time':'date', 'volume':'Volume'}, inplace = True)"
      ],
      "metadata": {
        "id": "HohJ---lhKab"
      },
      "execution_count": 9,
      "outputs": []
    },
    {
      "cell_type": "code",
      "source": [
        "data_ETH.head()"
      ],
      "metadata": {
        "colab": {
          "base_uri": "https://localhost:8080/",
          "height": 206
        },
        "id": "ZMUHxe6UQ_UT",
        "outputId": "32d11250-9daa-43cb-e48a-739b72f0f09c"
      },
      "execution_count": 10,
      "outputs": [
        {
          "output_type": "execute_result",
          "data": {
            "text/plain": [
              "                  date    open    high     low   close      Volume  \\\n",
              "0  2019-09-01 00:00:00  171.52  172.89  171.36  172.45  5981.16399   \n",
              "1  2019-09-01 01:00:00  172.47  173.42  172.41  172.71  7929.54701   \n",
              "2  2019-09-01 02:00:00  172.67  172.97  172.02  172.43  2650.04457   \n",
              "3  2019-09-01 03:00:00  172.41  172.83  172.32  172.57  2676.49085   \n",
              "4  2019-09-01 04:00:00  172.50  172.74  172.11  172.46  2596.85893   \n",
              "\n",
              "                close_time  quote_volume  count  taker_buy_volume  \\\n",
              "0  2019-09-01 00:59:59.999  1.030126e+06   3753        3576.32332   \n",
              "1  2019-09-01 01:59:59.999  1.372183e+06   3310        5532.93656   \n",
              "2  2019-09-01 02:59:59.999  4.568114e+05   2666        1333.25886   \n",
              "3  2019-09-01 03:59:59.999  4.618308e+05   2612        1445.60395   \n",
              "4  2019-09-01 04:59:59.999  4.476401e+05   2848        1524.31952   \n",
              "\n",
              "   taker_buy_quote_volume  \n",
              "0           615886.585686  \n",
              "1           957301.238661  \n",
              "2           229852.921103  \n",
              "3           249450.124375  \n",
              "4           262782.612091  "
            ],
            "text/html": [
              "\n",
              "  <div id=\"df-f845f028-7e67-4b17-8822-66a40d6f7a01\">\n",
              "    <div class=\"colab-df-container\">\n",
              "      <div>\n",
              "<style scoped>\n",
              "    .dataframe tbody tr th:only-of-type {\n",
              "        vertical-align: middle;\n",
              "    }\n",
              "\n",
              "    .dataframe tbody tr th {\n",
              "        vertical-align: top;\n",
              "    }\n",
              "\n",
              "    .dataframe thead th {\n",
              "        text-align: right;\n",
              "    }\n",
              "</style>\n",
              "<table border=\"1\" class=\"dataframe\">\n",
              "  <thead>\n",
              "    <tr style=\"text-align: right;\">\n",
              "      <th></th>\n",
              "      <th>date</th>\n",
              "      <th>open</th>\n",
              "      <th>high</th>\n",
              "      <th>low</th>\n",
              "      <th>close</th>\n",
              "      <th>Volume</th>\n",
              "      <th>close_time</th>\n",
              "      <th>quote_volume</th>\n",
              "      <th>count</th>\n",
              "      <th>taker_buy_volume</th>\n",
              "      <th>taker_buy_quote_volume</th>\n",
              "    </tr>\n",
              "  </thead>\n",
              "  <tbody>\n",
              "    <tr>\n",
              "      <th>0</th>\n",
              "      <td>2019-09-01 00:00:00</td>\n",
              "      <td>171.52</td>\n",
              "      <td>172.89</td>\n",
              "      <td>171.36</td>\n",
              "      <td>172.45</td>\n",
              "      <td>5981.16399</td>\n",
              "      <td>2019-09-01 00:59:59.999</td>\n",
              "      <td>1.030126e+06</td>\n",
              "      <td>3753</td>\n",
              "      <td>3576.32332</td>\n",
              "      <td>615886.585686</td>\n",
              "    </tr>\n",
              "    <tr>\n",
              "      <th>1</th>\n",
              "      <td>2019-09-01 01:00:00</td>\n",
              "      <td>172.47</td>\n",
              "      <td>173.42</td>\n",
              "      <td>172.41</td>\n",
              "      <td>172.71</td>\n",
              "      <td>7929.54701</td>\n",
              "      <td>2019-09-01 01:59:59.999</td>\n",
              "      <td>1.372183e+06</td>\n",
              "      <td>3310</td>\n",
              "      <td>5532.93656</td>\n",
              "      <td>957301.238661</td>\n",
              "    </tr>\n",
              "    <tr>\n",
              "      <th>2</th>\n",
              "      <td>2019-09-01 02:00:00</td>\n",
              "      <td>172.67</td>\n",
              "      <td>172.97</td>\n",
              "      <td>172.02</td>\n",
              "      <td>172.43</td>\n",
              "      <td>2650.04457</td>\n",
              "      <td>2019-09-01 02:59:59.999</td>\n",
              "      <td>4.568114e+05</td>\n",
              "      <td>2666</td>\n",
              "      <td>1333.25886</td>\n",
              "      <td>229852.921103</td>\n",
              "    </tr>\n",
              "    <tr>\n",
              "      <th>3</th>\n",
              "      <td>2019-09-01 03:00:00</td>\n",
              "      <td>172.41</td>\n",
              "      <td>172.83</td>\n",
              "      <td>172.32</td>\n",
              "      <td>172.57</td>\n",
              "      <td>2676.49085</td>\n",
              "      <td>2019-09-01 03:59:59.999</td>\n",
              "      <td>4.618308e+05</td>\n",
              "      <td>2612</td>\n",
              "      <td>1445.60395</td>\n",
              "      <td>249450.124375</td>\n",
              "    </tr>\n",
              "    <tr>\n",
              "      <th>4</th>\n",
              "      <td>2019-09-01 04:00:00</td>\n",
              "      <td>172.50</td>\n",
              "      <td>172.74</td>\n",
              "      <td>172.11</td>\n",
              "      <td>172.46</td>\n",
              "      <td>2596.85893</td>\n",
              "      <td>2019-09-01 04:59:59.999</td>\n",
              "      <td>4.476401e+05</td>\n",
              "      <td>2848</td>\n",
              "      <td>1524.31952</td>\n",
              "      <td>262782.612091</td>\n",
              "    </tr>\n",
              "  </tbody>\n",
              "</table>\n",
              "</div>\n",
              "      <button class=\"colab-df-convert\" onclick=\"convertToInteractive('df-f845f028-7e67-4b17-8822-66a40d6f7a01')\"\n",
              "              title=\"Convert this dataframe to an interactive table.\"\n",
              "              style=\"display:none;\">\n",
              "        \n",
              "  <svg xmlns=\"http://www.w3.org/2000/svg\" height=\"24px\"viewBox=\"0 0 24 24\"\n",
              "       width=\"24px\">\n",
              "    <path d=\"M0 0h24v24H0V0z\" fill=\"none\"/>\n",
              "    <path d=\"M18.56 5.44l.94 2.06.94-2.06 2.06-.94-2.06-.94-.94-2.06-.94 2.06-2.06.94zm-11 1L8.5 8.5l.94-2.06 2.06-.94-2.06-.94L8.5 2.5l-.94 2.06-2.06.94zm10 10l.94 2.06.94-2.06 2.06-.94-2.06-.94-.94-2.06-.94 2.06-2.06.94z\"/><path d=\"M17.41 7.96l-1.37-1.37c-.4-.4-.92-.59-1.43-.59-.52 0-1.04.2-1.43.59L10.3 9.45l-7.72 7.72c-.78.78-.78 2.05 0 2.83L4 21.41c.39.39.9.59 1.41.59.51 0 1.02-.2 1.41-.59l7.78-7.78 2.81-2.81c.8-.78.8-2.07 0-2.86zM5.41 20L4 18.59l7.72-7.72 1.47 1.35L5.41 20z\"/>\n",
              "  </svg>\n",
              "      </button>\n",
              "      \n",
              "  <style>\n",
              "    .colab-df-container {\n",
              "      display:flex;\n",
              "      flex-wrap:wrap;\n",
              "      gap: 12px;\n",
              "    }\n",
              "\n",
              "    .colab-df-convert {\n",
              "      background-color: #E8F0FE;\n",
              "      border: none;\n",
              "      border-radius: 50%;\n",
              "      cursor: pointer;\n",
              "      display: none;\n",
              "      fill: #1967D2;\n",
              "      height: 32px;\n",
              "      padding: 0 0 0 0;\n",
              "      width: 32px;\n",
              "    }\n",
              "\n",
              "    .colab-df-convert:hover {\n",
              "      background-color: #E2EBFA;\n",
              "      box-shadow: 0px 1px 2px rgba(60, 64, 67, 0.3), 0px 1px 3px 1px rgba(60, 64, 67, 0.15);\n",
              "      fill: #174EA6;\n",
              "    }\n",
              "\n",
              "    [theme=dark] .colab-df-convert {\n",
              "      background-color: #3B4455;\n",
              "      fill: #D2E3FC;\n",
              "    }\n",
              "\n",
              "    [theme=dark] .colab-df-convert:hover {\n",
              "      background-color: #434B5C;\n",
              "      box-shadow: 0px 1px 3px 1px rgba(0, 0, 0, 0.15);\n",
              "      filter: drop-shadow(0px 1px 2px rgba(0, 0, 0, 0.3));\n",
              "      fill: #FFFFFF;\n",
              "    }\n",
              "  </style>\n",
              "\n",
              "      <script>\n",
              "        const buttonEl =\n",
              "          document.querySelector('#df-f845f028-7e67-4b17-8822-66a40d6f7a01 button.colab-df-convert');\n",
              "        buttonEl.style.display =\n",
              "          google.colab.kernel.accessAllowed ? 'block' : 'none';\n",
              "\n",
              "        async function convertToInteractive(key) {\n",
              "          const element = document.querySelector('#df-f845f028-7e67-4b17-8822-66a40d6f7a01');\n",
              "          const dataTable =\n",
              "            await google.colab.kernel.invokeFunction('convertToInteractive',\n",
              "                                                     [key], {});\n",
              "          if (!dataTable) return;\n",
              "\n",
              "          const docLinkHtml = 'Like what you see? Visit the ' +\n",
              "            '<a target=\"_blank\" href=https://colab.research.google.com/notebooks/data_table.ipynb>data table notebook</a>'\n",
              "            + ' to learn more about interactive tables.';\n",
              "          element.innerHTML = '';\n",
              "          dataTable['output_type'] = 'display_data';\n",
              "          await google.colab.output.renderOutput(dataTable, element);\n",
              "          const docLink = document.createElement('div');\n",
              "          docLink.innerHTML = docLinkHtml;\n",
              "          element.appendChild(docLink);\n",
              "        }\n",
              "      </script>\n",
              "    </div>\n",
              "  </div>\n",
              "  "
            ]
          },
          "metadata": {},
          "execution_count": 10
        }
      ]
    },
    {
      "cell_type": "code",
      "source": [
        "data_ETH.info()"
      ],
      "metadata": {
        "colab": {
          "base_uri": "https://localhost:8080/"
        },
        "id": "1GliFMaDQmFP",
        "outputId": "ca0b301f-1aa2-4051-d683-cecbbb43e411"
      },
      "execution_count": 11,
      "outputs": [
        {
          "output_type": "stream",
          "name": "stdout",
          "text": [
            "<class 'pandas.core.frame.DataFrame'>\n",
            "RangeIndex: 32821 entries, 0 to 32820\n",
            "Data columns (total 11 columns):\n",
            " #   Column                  Non-Null Count  Dtype  \n",
            "---  ------                  --------------  -----  \n",
            " 0   date                    32821 non-null  object \n",
            " 1   open                    32821 non-null  float64\n",
            " 2   high                    32821 non-null  float64\n",
            " 3   low                     32821 non-null  float64\n",
            " 4   close                   32821 non-null  float64\n",
            " 5   Volume                  32821 non-null  float64\n",
            " 6   close_time              32821 non-null  object \n",
            " 7   quote_volume            32821 non-null  float64\n",
            " 8   count                   32821 non-null  int64  \n",
            " 9   taker_buy_volume        32821 non-null  float64\n",
            " 10  taker_buy_quote_volume  32821 non-null  float64\n",
            "dtypes: float64(8), int64(1), object(2)\n",
            "memory usage: 2.8+ MB\n"
          ]
        }
      ]
    },
    {
      "cell_type": "code",
      "source": [
        "# Removing close time column\n",
        "\n",
        "data_ETH = data_ETH.drop(columns=['close_time'])"
      ],
      "metadata": {
        "id": "hO97L8vsMENy"
      },
      "execution_count": 12,
      "outputs": []
    },
    {
      "cell_type": "code",
      "source": [
        "data_ETH.head()"
      ],
      "metadata": {
        "colab": {
          "base_uri": "https://localhost:8080/",
          "height": 206
        },
        "outputId": "b85a44af-d6f9-407f-9c9f-a76b1d0f404e",
        "id": "K6FTgiZJRQC4"
      },
      "execution_count": 13,
      "outputs": [
        {
          "output_type": "execute_result",
          "data": {
            "text/plain": [
              "                  date    open    high     low   close      Volume  \\\n",
              "0  2019-09-01 00:00:00  171.52  172.89  171.36  172.45  5981.16399   \n",
              "1  2019-09-01 01:00:00  172.47  173.42  172.41  172.71  7929.54701   \n",
              "2  2019-09-01 02:00:00  172.67  172.97  172.02  172.43  2650.04457   \n",
              "3  2019-09-01 03:00:00  172.41  172.83  172.32  172.57  2676.49085   \n",
              "4  2019-09-01 04:00:00  172.50  172.74  172.11  172.46  2596.85893   \n",
              "\n",
              "   quote_volume  count  taker_buy_volume  taker_buy_quote_volume  \n",
              "0  1.030126e+06   3753        3576.32332           615886.585686  \n",
              "1  1.372183e+06   3310        5532.93656           957301.238661  \n",
              "2  4.568114e+05   2666        1333.25886           229852.921103  \n",
              "3  4.618308e+05   2612        1445.60395           249450.124375  \n",
              "4  4.476401e+05   2848        1524.31952           262782.612091  "
            ],
            "text/html": [
              "\n",
              "  <div id=\"df-e81330da-6e53-4025-968d-3ad11e710ce1\">\n",
              "    <div class=\"colab-df-container\">\n",
              "      <div>\n",
              "<style scoped>\n",
              "    .dataframe tbody tr th:only-of-type {\n",
              "        vertical-align: middle;\n",
              "    }\n",
              "\n",
              "    .dataframe tbody tr th {\n",
              "        vertical-align: top;\n",
              "    }\n",
              "\n",
              "    .dataframe thead th {\n",
              "        text-align: right;\n",
              "    }\n",
              "</style>\n",
              "<table border=\"1\" class=\"dataframe\">\n",
              "  <thead>\n",
              "    <tr style=\"text-align: right;\">\n",
              "      <th></th>\n",
              "      <th>date</th>\n",
              "      <th>open</th>\n",
              "      <th>high</th>\n",
              "      <th>low</th>\n",
              "      <th>close</th>\n",
              "      <th>Volume</th>\n",
              "      <th>quote_volume</th>\n",
              "      <th>count</th>\n",
              "      <th>taker_buy_volume</th>\n",
              "      <th>taker_buy_quote_volume</th>\n",
              "    </tr>\n",
              "  </thead>\n",
              "  <tbody>\n",
              "    <tr>\n",
              "      <th>0</th>\n",
              "      <td>2019-09-01 00:00:00</td>\n",
              "      <td>171.52</td>\n",
              "      <td>172.89</td>\n",
              "      <td>171.36</td>\n",
              "      <td>172.45</td>\n",
              "      <td>5981.16399</td>\n",
              "      <td>1.030126e+06</td>\n",
              "      <td>3753</td>\n",
              "      <td>3576.32332</td>\n",
              "      <td>615886.585686</td>\n",
              "    </tr>\n",
              "    <tr>\n",
              "      <th>1</th>\n",
              "      <td>2019-09-01 01:00:00</td>\n",
              "      <td>172.47</td>\n",
              "      <td>173.42</td>\n",
              "      <td>172.41</td>\n",
              "      <td>172.71</td>\n",
              "      <td>7929.54701</td>\n",
              "      <td>1.372183e+06</td>\n",
              "      <td>3310</td>\n",
              "      <td>5532.93656</td>\n",
              "      <td>957301.238661</td>\n",
              "    </tr>\n",
              "    <tr>\n",
              "      <th>2</th>\n",
              "      <td>2019-09-01 02:00:00</td>\n",
              "      <td>172.67</td>\n",
              "      <td>172.97</td>\n",
              "      <td>172.02</td>\n",
              "      <td>172.43</td>\n",
              "      <td>2650.04457</td>\n",
              "      <td>4.568114e+05</td>\n",
              "      <td>2666</td>\n",
              "      <td>1333.25886</td>\n",
              "      <td>229852.921103</td>\n",
              "    </tr>\n",
              "    <tr>\n",
              "      <th>3</th>\n",
              "      <td>2019-09-01 03:00:00</td>\n",
              "      <td>172.41</td>\n",
              "      <td>172.83</td>\n",
              "      <td>172.32</td>\n",
              "      <td>172.57</td>\n",
              "      <td>2676.49085</td>\n",
              "      <td>4.618308e+05</td>\n",
              "      <td>2612</td>\n",
              "      <td>1445.60395</td>\n",
              "      <td>249450.124375</td>\n",
              "    </tr>\n",
              "    <tr>\n",
              "      <th>4</th>\n",
              "      <td>2019-09-01 04:00:00</td>\n",
              "      <td>172.50</td>\n",
              "      <td>172.74</td>\n",
              "      <td>172.11</td>\n",
              "      <td>172.46</td>\n",
              "      <td>2596.85893</td>\n",
              "      <td>4.476401e+05</td>\n",
              "      <td>2848</td>\n",
              "      <td>1524.31952</td>\n",
              "      <td>262782.612091</td>\n",
              "    </tr>\n",
              "  </tbody>\n",
              "</table>\n",
              "</div>\n",
              "      <button class=\"colab-df-convert\" onclick=\"convertToInteractive('df-e81330da-6e53-4025-968d-3ad11e710ce1')\"\n",
              "              title=\"Convert this dataframe to an interactive table.\"\n",
              "              style=\"display:none;\">\n",
              "        \n",
              "  <svg xmlns=\"http://www.w3.org/2000/svg\" height=\"24px\"viewBox=\"0 0 24 24\"\n",
              "       width=\"24px\">\n",
              "    <path d=\"M0 0h24v24H0V0z\" fill=\"none\"/>\n",
              "    <path d=\"M18.56 5.44l.94 2.06.94-2.06 2.06-.94-2.06-.94-.94-2.06-.94 2.06-2.06.94zm-11 1L8.5 8.5l.94-2.06 2.06-.94-2.06-.94L8.5 2.5l-.94 2.06-2.06.94zm10 10l.94 2.06.94-2.06 2.06-.94-2.06-.94-.94-2.06-.94 2.06-2.06.94z\"/><path d=\"M17.41 7.96l-1.37-1.37c-.4-.4-.92-.59-1.43-.59-.52 0-1.04.2-1.43.59L10.3 9.45l-7.72 7.72c-.78.78-.78 2.05 0 2.83L4 21.41c.39.39.9.59 1.41.59.51 0 1.02-.2 1.41-.59l7.78-7.78 2.81-2.81c.8-.78.8-2.07 0-2.86zM5.41 20L4 18.59l7.72-7.72 1.47 1.35L5.41 20z\"/>\n",
              "  </svg>\n",
              "      </button>\n",
              "      \n",
              "  <style>\n",
              "    .colab-df-container {\n",
              "      display:flex;\n",
              "      flex-wrap:wrap;\n",
              "      gap: 12px;\n",
              "    }\n",
              "\n",
              "    .colab-df-convert {\n",
              "      background-color: #E8F0FE;\n",
              "      border: none;\n",
              "      border-radius: 50%;\n",
              "      cursor: pointer;\n",
              "      display: none;\n",
              "      fill: #1967D2;\n",
              "      height: 32px;\n",
              "      padding: 0 0 0 0;\n",
              "      width: 32px;\n",
              "    }\n",
              "\n",
              "    .colab-df-convert:hover {\n",
              "      background-color: #E2EBFA;\n",
              "      box-shadow: 0px 1px 2px rgba(60, 64, 67, 0.3), 0px 1px 3px 1px rgba(60, 64, 67, 0.15);\n",
              "      fill: #174EA6;\n",
              "    }\n",
              "\n",
              "    [theme=dark] .colab-df-convert {\n",
              "      background-color: #3B4455;\n",
              "      fill: #D2E3FC;\n",
              "    }\n",
              "\n",
              "    [theme=dark] .colab-df-convert:hover {\n",
              "      background-color: #434B5C;\n",
              "      box-shadow: 0px 1px 3px 1px rgba(0, 0, 0, 0.15);\n",
              "      filter: drop-shadow(0px 1px 2px rgba(0, 0, 0, 0.3));\n",
              "      fill: #FFFFFF;\n",
              "    }\n",
              "  </style>\n",
              "\n",
              "      <script>\n",
              "        const buttonEl =\n",
              "          document.querySelector('#df-e81330da-6e53-4025-968d-3ad11e710ce1 button.colab-df-convert');\n",
              "        buttonEl.style.display =\n",
              "          google.colab.kernel.accessAllowed ? 'block' : 'none';\n",
              "\n",
              "        async function convertToInteractive(key) {\n",
              "          const element = document.querySelector('#df-e81330da-6e53-4025-968d-3ad11e710ce1');\n",
              "          const dataTable =\n",
              "            await google.colab.kernel.invokeFunction('convertToInteractive',\n",
              "                                                     [key], {});\n",
              "          if (!dataTable) return;\n",
              "\n",
              "          const docLinkHtml = 'Like what you see? Visit the ' +\n",
              "            '<a target=\"_blank\" href=https://colab.research.google.com/notebooks/data_table.ipynb>data table notebook</a>'\n",
              "            + ' to learn more about interactive tables.';\n",
              "          element.innerHTML = '';\n",
              "          dataTable['output_type'] = 'display_data';\n",
              "          await google.colab.output.renderOutput(dataTable, element);\n",
              "          const docLink = document.createElement('div');\n",
              "          docLink.innerHTML = docLinkHtml;\n",
              "          element.appendChild(docLink);\n",
              "        }\n",
              "      </script>\n",
              "    </div>\n",
              "  </div>\n",
              "  "
            ]
          },
          "metadata": {},
          "execution_count": 13
        }
      ]
    },
    {
      "cell_type": "markdown",
      "source": [
        "# EDA"
      ],
      "metadata": {
        "id": "aaC8yAQIAuMM"
      }
    },
    {
      "cell_type": "markdown",
      "source": [
        "## Converting to Datetime"
      ],
      "metadata": {
        "id": "BB929Pzb7UuB"
      }
    },
    {
      "cell_type": "code",
      "execution_count": 14,
      "metadata": {
        "execution": {
          "iopub.execute_input": "2022-08-24T10:14:28.442870Z",
          "iopub.status.busy": "2022-08-24T10:14:28.442474Z",
          "iopub.status.idle": "2022-08-24T10:14:39.013641Z",
          "shell.execute_reply": "2022-08-24T10:14:39.012362Z",
          "shell.execute_reply.started": "2022-08-24T10:14:28.442833Z"
        },
        "id": "LwvDyF2UQn32"
      },
      "outputs": [],
      "source": [
        "# Converting the Date column from object to datetime\n",
        "data_ETH[[\"date\"]] = data_ETH[[\"date\"]].apply(pd.to_datetime)"
      ]
    },
    {
      "cell_type": "code",
      "source": [
        "data_ETH.info()"
      ],
      "metadata": {
        "colab": {
          "base_uri": "https://localhost:8080/"
        },
        "id": "IpHWXzQBRZg0",
        "outputId": "309b15cc-f1f8-4868-b4be-0801cec3376f"
      },
      "execution_count": 15,
      "outputs": [
        {
          "output_type": "stream",
          "name": "stdout",
          "text": [
            "<class 'pandas.core.frame.DataFrame'>\n",
            "RangeIndex: 32821 entries, 0 to 32820\n",
            "Data columns (total 10 columns):\n",
            " #   Column                  Non-Null Count  Dtype         \n",
            "---  ------                  --------------  -----         \n",
            " 0   date                    32821 non-null  datetime64[ns]\n",
            " 1   open                    32821 non-null  float64       \n",
            " 2   high                    32821 non-null  float64       \n",
            " 3   low                     32821 non-null  float64       \n",
            " 4   close                   32821 non-null  float64       \n",
            " 5   Volume                  32821 non-null  float64       \n",
            " 6   quote_volume            32821 non-null  float64       \n",
            " 7   count                   32821 non-null  int64         \n",
            " 8   taker_buy_volume        32821 non-null  float64       \n",
            " 9   taker_buy_quote_volume  32821 non-null  float64       \n",
            "dtypes: datetime64[ns](1), float64(8), int64(1)\n",
            "memory usage: 2.5 MB\n"
          ]
        }
      ]
    },
    {
      "cell_type": "markdown",
      "source": [
        "## Missing Data"
      ],
      "metadata": {
        "id": "6kJZWLC9BHIQ"
      }
    },
    {
      "cell_type": "code",
      "source": [
        "data_ETH.isnull().any()"
      ],
      "metadata": {
        "colab": {
          "base_uri": "https://localhost:8080/"
        },
        "id": "Xorx8mwnRgM2",
        "outputId": "9cedb07d-4446-4789-88d2-8e87c2c9b801"
      },
      "execution_count": 16,
      "outputs": [
        {
          "output_type": "execute_result",
          "data": {
            "text/plain": [
              "date                      False\n",
              "open                      False\n",
              "high                      False\n",
              "low                       False\n",
              "close                     False\n",
              "Volume                    False\n",
              "quote_volume              False\n",
              "count                     False\n",
              "taker_buy_volume          False\n",
              "taker_buy_quote_volume    False\n",
              "dtype: bool"
            ]
          },
          "metadata": {},
          "execution_count": 16
        }
      ]
    },
    {
      "cell_type": "markdown",
      "source": [
        "# Modeling"
      ],
      "metadata": {
        "id": "wUgpj4Q2_gUn"
      }
    },
    {
      "cell_type": "code",
      "source": [
        "data_ETH.shape"
      ],
      "metadata": {
        "colab": {
          "base_uri": "https://localhost:8080/"
        },
        "id": "7QunwJxTBitl",
        "outputId": "4b32f9c5-6fdb-4c78-d4b5-dc0120b835b1"
      },
      "execution_count": 17,
      "outputs": [
        {
          "output_type": "execute_result",
          "data": {
            "text/plain": [
              "(32821, 10)"
            ]
          },
          "metadata": {},
          "execution_count": 17
        }
      ]
    },
    {
      "cell_type": "markdown",
      "source": [
        "## Random Forest"
      ],
      "metadata": {
        "id": "FxZzLs5yRzvL"
      }
    },
    {
      "cell_type": "code",
      "source": [
        "# Train/Test Split\n",
        "\n",
        "split_date = \"2022-09-01\"\n",
        "\n",
        "train_split = data_ETH['date'] <= split_date\n",
        "test_split = data_ETH['date'] > split_date\n",
        "\n",
        "train_rf = data_ETH[train_split]\n",
        "test_rf = data_ETH[test_split]\n",
        "\n",
        "columns = ['open', 'high', 'low', 'Volume', 'quote_volume', 'taker_buy_volume', 'taker_buy_quote_volume']\n",
        "\n",
        "X_train, y_train = train_rf[columns], train_rf.close\n",
        "X_test, y_test = test_rf[columns], test_rf.close"
      ],
      "metadata": {
        "id": "wSaPwFHVT9hR"
      },
      "execution_count": 18,
      "outputs": []
    },
    {
      "cell_type": "code",
      "source": [
        "# reg = RandomForestRegressor(random_state=1)\n",
        "\n",
        "# params={\n",
        "#  \"max_depth\"        : [1, 3, 4, 5, 6, 7],\n",
        "#  \"n_estimators\"     : [int(x) for x in np.linspace(start=50, stop=500, num=10)],\n",
        "\n",
        "# }\n",
        "\n",
        "# # Valid parameters are: ['bootstrap', 'ccp_alpha', 'criterion', 'max_depth', 'max_features', 'max_leaf_nodes', 'max_samples',\n",
        "# #                        'min_impurity_decrease', 'min_samples_leaf', 'min_samples_split', 'min_weight_fraction_leaf', 'n_estimators',\n",
        "# #                        'n_jobs', 'oob_score', 'random_state', 'verbose', 'warm_start'].\n",
        "\n",
        "\n",
        "# model_rf  = RandomizedSearchCV(\n",
        "#                 reg,\n",
        "#                 param_distributions=params,\n",
        "#                 n_iter=10,\n",
        "#                 n_jobs=-1,\n",
        "#                 cv=5,\n",
        "#                 verbose=3,\n",
        "# )\n",
        "\n",
        "# model_rf.fit(X_train, y_train)"
      ],
      "metadata": {
        "id": "48OuTq5k3KCA"
      },
      "execution_count": null,
      "outputs": []
    },
    {
      "cell_type": "code",
      "source": [
        "# reg.get_params"
      ],
      "metadata": {
        "id": "hrVSNRavcvtq"
      },
      "execution_count": null,
      "outputs": []
    },
    {
      "cell_type": "code",
      "source": [
        "# # Create the parameter grid based on the results of random search\n",
        "param_grid = {\n",
        "    'bootstrap': [True],\n",
        "    'max_depth': [80, 90, 100, 110],\n",
        "    'max_features': [2, 3],\n",
        "    'min_samples_leaf': [3, 4, 5],\n",
        "    'min_samples_split': [8, 10, 12],\n",
        "    'n_estimators': [50, 100, 200, 300, 1000]\n",
        "}\n",
        "\n",
        "# Create a based model\n",
        "rf = RandomForestRegressor()\n",
        "\n",
        "# Instantiate the grid search model\n",
        "grid_search = GridSearchCV(estimator = rf, param_grid = param_grid,\n",
        "                          cv = 3, n_jobs = -1, verbose = 2)"
      ],
      "metadata": {
        "id": "fMtJXo3fRqwA"
      },
      "execution_count": 38,
      "outputs": []
    },
    {
      "cell_type": "code",
      "source": [
        "grid_search.fit(X_train, y_train)"
      ],
      "metadata": {
        "id": "frRUNaVXUxtU",
        "colab": {
          "base_uri": "https://localhost:8080/",
          "height": 135
        },
        "outputId": "2bdf16c9-1278-4ffb-da48-9cd529236855"
      },
      "execution_count": 40,
      "outputs": [
        {
          "output_type": "stream",
          "name": "stdout",
          "text": [
            "Fitting 3 folds for each of 360 candidates, totalling 1080 fits\n"
          ]
        },
        {
          "output_type": "execute_result",
          "data": {
            "text/plain": [
              "GridSearchCV(cv=3, estimator=RandomForestRegressor(), n_jobs=-1,\n",
              "             param_grid={'bootstrap': [True], 'max_depth': [80, 90, 100, 110],\n",
              "                         'max_features': [2, 3], 'min_samples_leaf': [3, 4, 5],\n",
              "                         'min_samples_split': [8, 10, 12],\n",
              "                         'n_estimators': [50, 100, 200, 300, 1000]},\n",
              "             verbose=2)"
            ],
            "text/html": [
              "<style>#sk-container-id-2 {color: black;background-color: white;}#sk-container-id-2 pre{padding: 0;}#sk-container-id-2 div.sk-toggleable {background-color: white;}#sk-container-id-2 label.sk-toggleable__label {cursor: pointer;display: block;width: 100%;margin-bottom: 0;padding: 0.3em;box-sizing: border-box;text-align: center;}#sk-container-id-2 label.sk-toggleable__label-arrow:before {content: \"▸\";float: left;margin-right: 0.25em;color: #696969;}#sk-container-id-2 label.sk-toggleable__label-arrow:hover:before {color: black;}#sk-container-id-2 div.sk-estimator:hover label.sk-toggleable__label-arrow:before {color: black;}#sk-container-id-2 div.sk-toggleable__content {max-height: 0;max-width: 0;overflow: hidden;text-align: left;background-color: #f0f8ff;}#sk-container-id-2 div.sk-toggleable__content pre {margin: 0.2em;color: black;border-radius: 0.25em;background-color: #f0f8ff;}#sk-container-id-2 input.sk-toggleable__control:checked~div.sk-toggleable__content {max-height: 200px;max-width: 100%;overflow: auto;}#sk-container-id-2 input.sk-toggleable__control:checked~label.sk-toggleable__label-arrow:before {content: \"▾\";}#sk-container-id-2 div.sk-estimator input.sk-toggleable__control:checked~label.sk-toggleable__label {background-color: #d4ebff;}#sk-container-id-2 div.sk-label input.sk-toggleable__control:checked~label.sk-toggleable__label {background-color: #d4ebff;}#sk-container-id-2 input.sk-hidden--visually {border: 0;clip: rect(1px 1px 1px 1px);clip: rect(1px, 1px, 1px, 1px);height: 1px;margin: -1px;overflow: hidden;padding: 0;position: absolute;width: 1px;}#sk-container-id-2 div.sk-estimator {font-family: monospace;background-color: #f0f8ff;border: 1px dotted black;border-radius: 0.25em;box-sizing: border-box;margin-bottom: 0.5em;}#sk-container-id-2 div.sk-estimator:hover {background-color: #d4ebff;}#sk-container-id-2 div.sk-parallel-item::after {content: \"\";width: 100%;border-bottom: 1px solid gray;flex-grow: 1;}#sk-container-id-2 div.sk-label:hover label.sk-toggleable__label {background-color: #d4ebff;}#sk-container-id-2 div.sk-serial::before {content: \"\";position: absolute;border-left: 1px solid gray;box-sizing: border-box;top: 0;bottom: 0;left: 50%;z-index: 0;}#sk-container-id-2 div.sk-serial {display: flex;flex-direction: column;align-items: center;background-color: white;padding-right: 0.2em;padding-left: 0.2em;position: relative;}#sk-container-id-2 div.sk-item {position: relative;z-index: 1;}#sk-container-id-2 div.sk-parallel {display: flex;align-items: stretch;justify-content: center;background-color: white;position: relative;}#sk-container-id-2 div.sk-item::before, #sk-container-id-2 div.sk-parallel-item::before {content: \"\";position: absolute;border-left: 1px solid gray;box-sizing: border-box;top: 0;bottom: 0;left: 50%;z-index: -1;}#sk-container-id-2 div.sk-parallel-item {display: flex;flex-direction: column;z-index: 1;position: relative;background-color: white;}#sk-container-id-2 div.sk-parallel-item:first-child::after {align-self: flex-end;width: 50%;}#sk-container-id-2 div.sk-parallel-item:last-child::after {align-self: flex-start;width: 50%;}#sk-container-id-2 div.sk-parallel-item:only-child::after {width: 0;}#sk-container-id-2 div.sk-dashed-wrapped {border: 1px dashed gray;margin: 0 0.4em 0.5em 0.4em;box-sizing: border-box;padding-bottom: 0.4em;background-color: white;}#sk-container-id-2 div.sk-label label {font-family: monospace;font-weight: bold;display: inline-block;line-height: 1.2em;}#sk-container-id-2 div.sk-label-container {text-align: center;}#sk-container-id-2 div.sk-container {/* jupyter's `normalize.less` sets `[hidden] { display: none; }` but bootstrap.min.css set `[hidden] { display: none !important; }` so we also need the `!important` here to be able to override the default hidden behavior on the sphinx rendered scikit-learn.org. See: https://github.com/scikit-learn/scikit-learn/issues/21755 */display: inline-block !important;position: relative;}#sk-container-id-2 div.sk-text-repr-fallback {display: none;}</style><div id=\"sk-container-id-2\" class=\"sk-top-container\"><div class=\"sk-text-repr-fallback\"><pre>GridSearchCV(cv=3, estimator=RandomForestRegressor(), n_jobs=-1,\n",
              "             param_grid={&#x27;bootstrap&#x27;: [True], &#x27;max_depth&#x27;: [80, 90, 100, 110],\n",
              "                         &#x27;max_features&#x27;: [2, 3], &#x27;min_samples_leaf&#x27;: [3, 4, 5],\n",
              "                         &#x27;min_samples_split&#x27;: [8, 10, 12],\n",
              "                         &#x27;n_estimators&#x27;: [50, 100, 200, 300, 1000]},\n",
              "             verbose=2)</pre><b>In a Jupyter environment, please rerun this cell to show the HTML representation or trust the notebook. <br />On GitHub, the HTML representation is unable to render, please try loading this page with nbviewer.org.</b></div><div class=\"sk-container\" hidden><div class=\"sk-item sk-dashed-wrapped\"><div class=\"sk-label-container\"><div class=\"sk-label sk-toggleable\"><input class=\"sk-toggleable__control sk-hidden--visually\" id=\"sk-estimator-id-2\" type=\"checkbox\" ><label for=\"sk-estimator-id-2\" class=\"sk-toggleable__label sk-toggleable__label-arrow\">GridSearchCV</label><div class=\"sk-toggleable__content\"><pre>GridSearchCV(cv=3, estimator=RandomForestRegressor(), n_jobs=-1,\n",
              "             param_grid={&#x27;bootstrap&#x27;: [True], &#x27;max_depth&#x27;: [80, 90, 100, 110],\n",
              "                         &#x27;max_features&#x27;: [2, 3], &#x27;min_samples_leaf&#x27;: [3, 4, 5],\n",
              "                         &#x27;min_samples_split&#x27;: [8, 10, 12],\n",
              "                         &#x27;n_estimators&#x27;: [50, 100, 200, 300, 1000]},\n",
              "             verbose=2)</pre></div></div></div><div class=\"sk-parallel\"><div class=\"sk-parallel-item\"><div class=\"sk-item\"><div class=\"sk-label-container\"><div class=\"sk-label sk-toggleable\"><input class=\"sk-toggleable__control sk-hidden--visually\" id=\"sk-estimator-id-3\" type=\"checkbox\" ><label for=\"sk-estimator-id-3\" class=\"sk-toggleable__label sk-toggleable__label-arrow\">estimator: RandomForestRegressor</label><div class=\"sk-toggleable__content\"><pre>RandomForestRegressor()</pre></div></div></div><div class=\"sk-serial\"><div class=\"sk-item\"><div class=\"sk-estimator sk-toggleable\"><input class=\"sk-toggleable__control sk-hidden--visually\" id=\"sk-estimator-id-4\" type=\"checkbox\" ><label for=\"sk-estimator-id-4\" class=\"sk-toggleable__label sk-toggleable__label-arrow\">RandomForestRegressor</label><div class=\"sk-toggleable__content\"><pre>RandomForestRegressor()</pre></div></div></div></div></div></div></div></div></div></div>"
            ]
          },
          "metadata": {},
          "execution_count": 40
        }
      ]
    },
    {
      "cell_type": "code",
      "source": [
        "print(f\"Model Best Stimator : {grid_search.best_estimator_}\")"
      ],
      "metadata": {
        "colab": {
          "base_uri": "https://localhost:8080/"
        },
        "id": "jS6OHY0x_9sb",
        "outputId": "2f2f0c43-dcb1-4876-b461-6131535eccb9"
      },
      "execution_count": 41,
      "outputs": [
        {
          "output_type": "stream",
          "name": "stdout",
          "text": [
            "Model Best Stimator : RandomForestRegressor(max_depth=80, max_features=3, min_samples_leaf=3,\n",
            "                      min_samples_split=8)\n"
          ]
        }
      ]
    },
    {
      "cell_type": "code",
      "source": [
        "print(f\"Model Best Score : {grid_search.best_score_}\")\n",
        "print(f\"Model Best Stimator : {grid_search.best_estimator_}\")\n",
        "print(f\"Model Best Parameters : {grid_search.best_estimator_.get_params()}\")"
      ],
      "metadata": {
        "id": "xuyYdHHQVorn",
        "colab": {
          "base_uri": "https://localhost:8080/"
        },
        "outputId": "0da31694-eae6-4bae-d4a8-1c32148a4ff8"
      },
      "execution_count": 42,
      "outputs": [
        {
          "output_type": "stream",
          "name": "stdout",
          "text": [
            "Model Best Score : -0.22038798788951772\n",
            "Model Best Stimator : RandomForestRegressor(max_depth=80, max_features=3, min_samples_leaf=3,\n",
            "                      min_samples_split=8)\n",
            "Model Best Parameters : {'bootstrap': True, 'ccp_alpha': 0.0, 'criterion': 'squared_error', 'max_depth': 80, 'max_features': 3, 'max_leaf_nodes': None, 'max_samples': None, 'min_impurity_decrease': 0.0, 'min_samples_leaf': 3, 'min_samples_split': 8, 'min_weight_fraction_leaf': 0.0, 'n_estimators': 100, 'n_jobs': None, 'oob_score': False, 'random_state': None, 'verbose': 0, 'warm_start': False}\n"
          ]
        }
      ]
    },
    {
      "cell_type": "code",
      "source": [
        "best_rf_model = grid_search.best_estimator_"
      ],
      "metadata": {
        "id": "RCsQoE779HMG"
      },
      "execution_count": 43,
      "outputs": []
    },
    {
      "cell_type": "code",
      "source": [
        "# best_rf_model = joblib.load(\"/content/drive/MyDrive/Colab Notebooks/01 Omdena/Bahrain - Crypto/Saved Models/ETH/rf_grid_eth.pkl\")"
      ],
      "metadata": {
        "id": "TcFKO3rY1uM8"
      },
      "execution_count": null,
      "outputs": []
    },
    {
      "cell_type": "code",
      "source": [
        "# Plot Actual vs Prediction\n",
        "\n",
        "train_rf['Predicted_close'] = best_rf_model.predict(X_train)\n",
        "\n",
        "train_rf[['close','Predicted_close']].plot(figsize=(15, 5))"
      ],
      "metadata": {
        "id": "gIcZquBYV2O7",
        "colab": {
          "base_uri": "https://localhost:8080/",
          "height": 561
        },
        "outputId": "e4cb8042-0a42-41d2-a9a2-94440d5405d7"
      },
      "execution_count": 46,
      "outputs": [
        {
          "output_type": "stream",
          "name": "stderr",
          "text": [
            "<ipython-input-46-8cfc45fd035f>:3: SettingWithCopyWarning: \n",
            "A value is trying to be set on a copy of a slice from a DataFrame.\n",
            "Try using .loc[row_indexer,col_indexer] = value instead\n",
            "\n",
            "See the caveats in the documentation: https://pandas.pydata.org/pandas-docs/stable/user_guide/indexing.html#returning-a-view-versus-a-copy\n",
            "  train_xg['Predicted_close'] = best_rf_model.predict(X_train)\n"
          ]
        },
        {
          "output_type": "execute_result",
          "data": {
            "text/plain": [
              "<Axes: >"
            ]
          },
          "metadata": {},
          "execution_count": 46
        },
        {
          "output_type": "display_data",
          "data": {
            "text/plain": [
              "<Figure size 1500x500 with 1 Axes>"
            ],
            "image/png": "[encoded data removed]"
          },
          "metadata": {}
        }
      ]
    },
    {
      "cell_type": "code",
      "source": [
        "# Plot whole timeframe\n",
        "\n",
        "test_rf['Forecast_RandomForest'] = best_rf_model.predict(X_test)\n",
        "\n",
        "overall_data = pd.concat([train_rf, test_rf], sort=False)\n",
        "\n",
        "overall_data[['close', 'Forecast_RandomForest']].plot(figsize=(15, 5))"
      ],
      "metadata": {
        "id": "NyeAyDh3YDUm",
        "colab": {
          "base_uri": "https://localhost:8080/",
          "height": 457
        },
        "outputId": "d2f35d66-5f5a-41aa-f27e-1c5a36ddb656"
      },
      "execution_count": 49,
      "outputs": [
        {
          "output_type": "execute_result",
          "data": {
            "text/plain": [
              "<Axes: >"
            ]
          },
          "metadata": {},
          "execution_count": 49
        },
        {
          "output_type": "display_data",
          "data": {
            "text/plain": [
              "<Figure size 1500x500 with 1 Axes>"
            ],
            "image/png": "[encoded data removed]"
          },
          "metadata": {}
        }
      ]
    },
    {
      "cell_type": "code",
      "source": [
        "# Results RF Model\n",
        "\n",
        "test_mae_rf = round(mean_absolute_error(test_rf['close'], test_rf['Forecast_RandomForest']))\n",
        "test_rmse_rf = round(np.sqrt(mean_squared_error(test_rf['close'], test_rf['Forecast_RandomForest'])))\n",
        "test_r2_rf = r2_score(test_rf['close'], test_rf['Forecast_RandomForest'])\n",
        "\n",
        "print(f\"test MAE RF : {test_mae_rf}\")\n",
        "print(f\"test RMSE RF : {test_rmse_rf}\")\n",
        "print(f\"test R2 RF : {test_r2_rf}\")"
      ],
      "metadata": {
        "id": "fm1pP9iB9VSM"
      },
      "execution_count": null,
      "outputs": []
    },
    {
      "cell_type": "code",
      "source": [
        "#save your model or results\n",
        "\n",
        "joblib.dump(best_rf_model, \"/content/drive/MyDrive/Colab Notebooks/01 Omdena/Bahrain - Crypto/Saved Models/ETH/rf_grid_eth.pkl\")"
      ],
      "metadata": {
        "id": "WylKonC_Zy6P",
        "colab": {
          "base_uri": "https://localhost:8080/"
        },
        "outputId": "c78d3c2e-02ce-4949-f2c5-f27dd082ede7"
      },
      "execution_count": 53,
      "outputs": [
        {
          "output_type": "execute_result",
          "data": {
            "text/plain": [
              "['/content/drive/MyDrive/Colab Notebooks/01 Omdena/Bahrain - Crypto/Saved Models/ETH/rf_grid_eth.pkl']"
            ]
          },
          "metadata": {},
          "execution_count": 53
        }
      ]
    },
    {
      "cell_type": "code",
      "source": [
        "#load your model for further usage\n",
        "\n",
        "# load_rf = joblib.load(\"/content/drive/MyDrive/Colab Notebooks/01 Omdena/Bahrain - Crypto/Saved Models/ETH/best_rf_model.pkl\")"
      ],
      "metadata": {
        "id": "Sd15LkDiYdST"
      },
      "execution_count": null,
      "outputs": []
    },
    {
      "cell_type": "markdown",
      "source": [
        "## Results Modeling"
      ],
      "metadata": {
        "id": "tj3o2yPh-cN3"
      }
    },
    {
      "cell_type": "code",
      "source": [
        "# Overall Results\n",
        "\n",
        "results = {\n",
        "    \"METRIC\": [\"MAE\", \"RMSE\", \"R2\"],\n",
        "    \"RandomForest\": [test_mae_rf, test_rmse_rf, test_r2_rf]\n",
        "}\n",
        "\n",
        "df_results = pd.DataFrame(results).round(1)\n",
        "df_results"
      ],
      "metadata": {
        "id": "ES9WngVh8Nvo",
        "colab": {
          "base_uri": "https://localhost:8080/",
          "height": 143
        },
        "outputId": "bc2ab439-57fe-4529-a987-fc9b482d5320"
      },
      "execution_count": 51,
      "outputs": [
        {
          "output_type": "execute_result",
          "data": {
            "text/plain": [
              "  METRIC  RandomForest\n",
              "0    MAE           5.0\n",
              "1   RMSE           7.0\n",
              "2     R2           1.0"
            ],
            "text/html": [
              "\n",
              "  <div id=\"df-d07edecb-2b9d-4b33-a78a-2d530417c4ab\">\n",
              "    <div class=\"colab-df-container\">\n",
              "      <div>\n",
              "<style scoped>\n",
              "    .dataframe tbody tr th:only-of-type {\n",
              "        vertical-align: middle;\n",
              "    }\n",
              "\n",
              "    .dataframe tbody tr th {\n",
              "        vertical-align: top;\n",
              "    }\n",
              "\n",
              "    .dataframe thead th {\n",
              "        text-align: right;\n",
              "    }\n",
              "</style>\n",
              "<table border=\"1\" class=\"dataframe\">\n",
              "  <thead>\n",
              "    <tr style=\"text-align: right;\">\n",
              "      <th></th>\n",
              "      <th>METRIC</th>\n",
              "      <th>RandomForest</th>\n",
              "    </tr>\n",
              "  </thead>\n",
              "  <tbody>\n",
              "    <tr>\n",
              "      <th>0</th>\n",
              "      <td>MAE</td>\n",
              "      <td>5.0</td>\n",
              "    </tr>\n",
              "    <tr>\n",
              "      <th>1</th>\n",
              "      <td>RMSE</td>\n",
              "      <td>7.0</td>\n",
              "    </tr>\n",
              "    <tr>\n",
              "      <th>2</th>\n",
              "      <td>R2</td>\n",
              "      <td>1.0</td>\n",
              "    </tr>\n",
              "  </tbody>\n",
              "</table>\n",
              "</div>\n",
              "      <button class=\"colab-df-convert\" onclick=\"convertToInteractive('df-d07edecb-2b9d-4b33-a78a-2d530417c4ab')\"\n",
              "              title=\"Convert this dataframe to an interactive table.\"\n",
              "              style=\"display:none;\">\n",
              "        \n",
              "  <svg xmlns=\"http://www.w3.org/2000/svg\" height=\"24px\"viewBox=\"0 0 24 24\"\n",
              "       width=\"24px\">\n",
              "    <path d=\"M0 0h24v24H0V0z\" fill=\"none\"/>\n",
              "    <path d=\"M18.56 5.44l.94 2.06.94-2.06 2.06-.94-2.06-.94-.94-2.06-.94 2.06-2.06.94zm-11 1L8.5 8.5l.94-2.06 2.06-.94-2.06-.94L8.5 2.5l-.94 2.06-2.06.94zm10 10l.94 2.06.94-2.06 2.06-.94-2.06-.94-.94-2.06-.94 2.06-2.06.94z\"/><path d=\"M17.41 7.96l-1.37-1.37c-.4-.4-.92-.59-1.43-.59-.52 0-1.04.2-1.43.59L10.3 9.45l-7.72 7.72c-.78.78-.78 2.05 0 2.83L4 21.41c.39.39.9.59 1.41.59.51 0 1.02-.2 1.41-.59l7.78-7.78 2.81-2.81c.8-.78.8-2.07 0-2.86zM5.41 20L4 18.59l7.72-7.72 1.47 1.35L5.41 20z\"/>\n",
              "  </svg>\n",
              "      </button>\n",
              "      \n",
              "  <style>\n",
              "    .colab-df-container {\n",
              "      display:flex;\n",
              "      flex-wrap:wrap;\n",
              "      gap: 12px;\n",
              "    }\n",
              "\n",
              "    .colab-df-convert {\n",
              "      background-color: #E8F0FE;\n",
              "      border: none;\n",
              "      border-radius: 50%;\n",
              "      cursor: pointer;\n",
              "      display: none;\n",
              "      fill: #1967D2;\n",
              "      height: 32px;\n",
              "      padding: 0 0 0 0;\n",
              "      width: 32px;\n",
              "    }\n",
              "\n",
              "    .colab-df-convert:hover {\n",
              "      background-color: #E2EBFA;\n",
              "      box-shadow: 0px 1px 2px rgba(60, 64, 67, 0.3), 0px 1px 3px 1px rgba(60, 64, 67, 0.15);\n",
              "      fill: #174EA6;\n",
              "    }\n",
              "\n",
              "    [theme=dark] .colab-df-convert {\n",
              "      background-color: #3B4455;\n",
              "      fill: #D2E3FC;\n",
              "    }\n",
              "\n",
              "    [theme=dark] .colab-df-convert:hover {\n",
              "      background-color: #434B5C;\n",
              "      box-shadow: 0px 1px 3px 1px rgba(0, 0, 0, 0.15);\n",
              "      filter: drop-shadow(0px 1px 2px rgba(0, 0, 0, 0.3));\n",
              "      fill: #FFFFFF;\n",
              "    }\n",
              "  </style>\n",
              "\n",
              "      <script>\n",
              "        const buttonEl =\n",
              "          document.querySelector('#df-d07edecb-2b9d-4b33-a78a-2d530417c4ab button.colab-df-convert');\n",
              "        buttonEl.style.display =\n",
              "          google.colab.kernel.accessAllowed ? 'block' : 'none';\n",
              "\n",
              "        async function convertToInteractive(key) {\n",
              "          const element = document.querySelector('#df-d07edecb-2b9d-4b33-a78a-2d530417c4ab');\n",
              "          const dataTable =\n",
              "            await google.colab.kernel.invokeFunction('convertToInteractive',\n",
              "                                                     [key], {});\n",
              "          if (!dataTable) return;\n",
              "\n",
              "          const docLinkHtml = 'Like what you see? Visit the ' +\n",
              "            '<a target=\"_blank\" href=https://colab.research.google.com/notebooks/data_table.ipynb>data table notebook</a>'\n",
              "            + ' to learn more about interactive tables.';\n",
              "          element.innerHTML = '';\n",
              "          dataTable['output_type'] = 'display_data';\n",
              "          await google.colab.output.renderOutput(dataTable, element);\n",
              "          const docLink = document.createElement('div');\n",
              "          docLink.innerHTML = docLinkHtml;\n",
              "          element.appendChild(docLink);\n",
              "        }\n",
              "      </script>\n",
              "    </div>\n",
              "  </div>\n",
              "  "
            ]
          },
          "metadata": {},
          "execution_count": 51
        }
      ]
    }
  ]
}