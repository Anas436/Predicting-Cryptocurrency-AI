{
  "nbformat": 4,
  "nbformat_minor": 0,
  "metadata": {
    "colab": {
      "provenance": [],
      "gpuType": "T4"
    },
    "kernelspec": {
      "name": "python3",
      "display_name": "Python 3"
    },
    "language_info": {
      "name": "python"
    },
    "accelerator": "GPU"
  },
  "cells": [
    {
      "cell_type": "markdown",
      "source": [
        "# Mount Drive"
      ],
      "metadata": {
        "id": "5G3jKhIkEVrE"
      }
    },
    {
      "cell_type": "code",
      "source": [
        "from google.colab import drive\n",
        "drive.mount('/content/drive')"
      ],
      "metadata": {
        "colab": {
          "base_uri": "https://localhost:8080/"
        },
        "id": "YDLqicmGEnBR",
        "outputId": "29eaa5c9-5e83-48ba-b853-02f999e89464"
      },
      "execution_count": 1,
      "outputs": [
        {
          "output_type": "stream",
          "name": "stdout",
          "text": [
            "Drive already mounted at /content/drive; to attempt to forcibly remount, call drive.mount(\"/content/drive\", force_remount=True).\n"
          ]
        }
      ]
    },
    {
      "cell_type": "markdown",
      "source": [
        "# Install libraries"
      ],
      "metadata": {
        "id": "ZsFo9lg_3ZQg"
      }
    },
    {
      "cell_type": "code",
      "source": [],
      "metadata": {
        "id": "GRSwneAq_29t"
      },
      "execution_count": 1,
      "outputs": []
    },
    {
      "cell_type": "markdown",
      "source": [
        "# Import Libraries"
      ],
      "metadata": {
        "id": "cfiJuMV7AjPk"
      }
    },
    {
      "cell_type": "code",
      "execution_count": 2,
      "metadata": {
        "id": "BFrpy0jt8WXh"
      },
      "outputs": [],
      "source": [
        "#Load the required libraries\n",
        "\n",
        "import pandas as pd\n",
        "import numpy as np\n",
        "from datetime import datetime\n",
        "\n",
        "import seaborn as sns\n",
        "import matplotlib.pyplot as plt\n",
        "# import plotly.express as px\n",
        "# import plotly.graph_objects as go\n",
        "plt.style.use('seaborn-v0_8-darkgrid')\n",
        "\n",
        "\n",
        "from sklearn.metrics import mean_absolute_error, mean_squared_error,r2_score\n",
        "\n",
        "import joblib\n",
        "\n",
        "from statsmodels.tsa.arima.model import ARIMA\n",
        "\n",
        "\n",
        "# import prophet\n",
        "# from prophet import Prophet\n",
        "# from prophet.plot import plot_plotly, plot_components_plotly\n",
        "# from prophet.plot import add_changepoints_to_plot\n",
        "\n",
        "from sklearn.preprocessing import MinMaxScaler\n",
        "from sklearn.model_selection import RandomizedSearchCV, GridSearchCV\n",
        "from sklearn.ensemble import RandomForestRegressor\n",
        "\n",
        "# import xgboost as xgb\n",
        "# from xgboost import plot_importance, plot_tree\n",
        "\n",
        "# import tensorflow as tf\n",
        "# from keras.models import Sequential,load_model\n",
        "# from keras.layers import Dropout, Dense, LSTM, GRU\n",
        "# from keras.callbacks import ModelCheckpoint, EarlyStopping, LearningRateScheduler\n",
        "\n",
        "\n",
        "from pylab import rcParams\n",
        "rcParams['figure.figsize'] = 14, 8\n",
        "\n",
        "\n",
        "# from matplotlib import rc\n",
        "\n",
        "# sns.set(style='whitegrid', palette='muted', font_scale=1.5)\n",
        "\n",
        "# RANDOM_SEED = 42\n",
        "\n",
        "# np.random.seed(RANDOM_SEED)\n",
        "\n",
        "import warnings\n",
        "warnings.filterwarnings(\"ignore\")\n"
      ]
    },
    {
      "cell_type": "markdown",
      "source": [
        "# Import Data"
      ],
      "metadata": {
        "id": "rgQgYuXSAoz7"
      }
    },
    {
      "cell_type": "code",
      "source": [
        "data_ETH = pd.read_csv(\"/content/drive/MyDrive/ETHUSDT_merged.csv\")"
      ],
      "metadata": {
        "id": "HzN89euZ8xfW"
      },
      "execution_count": 3,
      "outputs": []
    },
    {
      "cell_type": "code",
      "source": [
        "data_ETH.head()"
      ],
      "metadata": {
        "colab": {
          "base_uri": "https://localhost:8080/",
          "height": 206
        },
        "id": "a2A4FMbpXz2Q",
        "outputId": "3bfc0d2c-12aa-4eee-9cbc-19cb7dcfe709"
      },
      "execution_count": 4,
      "outputs": [
        {
          "output_type": "execute_result",
          "data": {
            "text/plain": [
              "             open_time    open    high     low   close      volume  \\\n",
              "0  2019-09-01 00:00:00  171.52  172.89  171.36  172.45  5981.16399   \n",
              "1  2019-09-01 01:00:00  172.47  173.42  172.41  172.71  7929.54701   \n",
              "2  2019-09-01 02:00:00  172.67  172.97  172.02  172.43  2650.04457   \n",
              "3  2019-09-01 03:00:00  172.41  172.83  172.32  172.57  2676.49085   \n",
              "4  2019-09-01 04:00:00  172.50  172.74  172.11  172.46  2596.85893   \n",
              "\n",
              "                close_time  quote_volume  count  taker_buy_volume  \\\n",
              "0  2019-09-01 00:59:59.999  1.030126e+06   3753        3576.32332   \n",
              "1  2019-09-01 01:59:59.999  1.372183e+06   3310        5532.93656   \n",
              "2  2019-09-01 02:59:59.999  4.568114e+05   2666        1333.25886   \n",
              "3  2019-09-01 03:59:59.999  4.618308e+05   2612        1445.60395   \n",
              "4  2019-09-01 04:59:59.999  4.476401e+05   2848        1524.31952   \n",
              "\n",
              "   taker_buy_quote_volume  \n",
              "0           615886.585686  \n",
              "1           957301.238661  \n",
              "2           229852.921103  \n",
              "3           249450.124375  \n",
              "4           262782.612091  "
            ],
            "text/html": [
              "\n",
              "  <div id=\"df-297ce69a-ec47-4a29-9855-cc2b84b43d99\">\n",
              "    <div class=\"colab-df-container\">\n",
              "      <div>\n",
              "<style scoped>\n",
              "    .dataframe tbody tr th:only-of-type {\n",
              "        vertical-align: middle;\n",
              "    }\n",
              "\n",
              "    .dataframe tbody tr th {\n",
              "        vertical-align: top;\n",
              "    }\n",
              "\n",
              "    .dataframe thead th {\n",
              "        text-align: right;\n",
              "    }\n",
              "</style>\n",
              "<table border=\"1\" class=\"dataframe\">\n",
              "  <thead>\n",
              "    <tr style=\"text-align: right;\">\n",
              "      <th></th>\n",
              "      <th>open_time</th>\n",
              "      <th>open</th>\n",
              "      <th>high</th>\n",
              "      <th>low</th>\n",
              "      <th>close</th>\n",
              "      <th>volume</th>\n",
              "      <th>close_time</th>\n",
              "      <th>quote_volume</th>\n",
              "      <th>count</th>\n",
              "      <th>taker_buy_volume</th>\n",
              "      <th>taker_buy_quote_volume</th>\n",
              "    </tr>\n",
              "  </thead>\n",
              "  <tbody>\n",
              "    <tr>\n",
              "      <th>0</th>\n",
              "      <td>2019-09-01 00:00:00</td>\n",
              "      <td>171.52</td>\n",
              "      <td>172.89</td>\n",
              "      <td>171.36</td>\n",
              "      <td>172.45</td>\n",
              "      <td>5981.16399</td>\n",
              "      <td>2019-09-01 00:59:59.999</td>\n",
              "      <td>1.030126e+06</td>\n",
              "      <td>3753</td>\n",
              "      <td>3576.32332</td>\n",
              "      <td>615886.585686</td>\n",
              "    </tr>\n",
              "    <tr>\n",
              "      <th>1</th>\n",
              "      <td>2019-09-01 01:00:00</td>\n",
              "      <td>172.47</td>\n",
              "      <td>173.42</td>\n",
              "      <td>172.41</td>\n",
              "      <td>172.71</td>\n",
              "      <td>7929.54701</td>\n",
              "      <td>2019-09-01 01:59:59.999</td>\n",
              "      <td>1.372183e+06</td>\n",
              "      <td>3310</td>\n",
              "      <td>5532.93656</td>\n",
              "      <td>957301.238661</td>\n",
              "    </tr>\n",
              "    <tr>\n",
              "      <th>2</th>\n",
              "      <td>2019-09-01 02:00:00</td>\n",
              "      <td>172.67</td>\n",
              "      <td>172.97</td>\n",
              "      <td>172.02</td>\n",
              "      <td>172.43</td>\n",
              "      <td>2650.04457</td>\n",
              "      <td>2019-09-01 02:59:59.999</td>\n",
              "      <td>4.568114e+05</td>\n",
              "      <td>2666</td>\n",
              "      <td>1333.25886</td>\n",
              "      <td>229852.921103</td>\n",
              "    </tr>\n",
              "    <tr>\n",
              "      <th>3</th>\n",
              "      <td>2019-09-01 03:00:00</td>\n",
              "      <td>172.41</td>\n",
              "      <td>172.83</td>\n",
              "      <td>172.32</td>\n",
              "      <td>172.57</td>\n",
              "      <td>2676.49085</td>\n",
              "      <td>2019-09-01 03:59:59.999</td>\n",
              "      <td>4.618308e+05</td>\n",
              "      <td>2612</td>\n",
              "      <td>1445.60395</td>\n",
              "      <td>249450.124375</td>\n",
              "    </tr>\n",
              "    <tr>\n",
              "      <th>4</th>\n",
              "      <td>2019-09-01 04:00:00</td>\n",
              "      <td>172.50</td>\n",
              "      <td>172.74</td>\n",
              "      <td>172.11</td>\n",
              "      <td>172.46</td>\n",
              "      <td>2596.85893</td>\n",
              "      <td>2019-09-01 04:59:59.999</td>\n",
              "      <td>4.476401e+05</td>\n",
              "      <td>2848</td>\n",
              "      <td>1524.31952</td>\n",
              "      <td>262782.612091</td>\n",
              "    </tr>\n",
              "  </tbody>\n",
              "</table>\n",
              "</div>\n",
              "      <button class=\"colab-df-convert\" onclick=\"convertToInteractive('df-297ce69a-ec47-4a29-9855-cc2b84b43d99')\"\n",
              "              title=\"Convert this dataframe to an interactive table.\"\n",
              "              style=\"display:none;\">\n",
              "        \n",
              "  <svg xmlns=\"http://www.w3.org/2000/svg\" height=\"24px\"viewBox=\"0 0 24 24\"\n",
              "       width=\"24px\">\n",
              "    <path d=\"M0 0h24v24H0V0z\" fill=\"none\"/>\n",
              "    <path d=\"M18.56 5.44l.94 2.06.94-2.06 2.06-.94-2.06-.94-.94-2.06-.94 2.06-2.06.94zm-11 1L8.5 8.5l.94-2.06 2.06-.94-2.06-.94L8.5 2.5l-.94 2.06-2.06.94zm10 10l.94 2.06.94-2.06 2.06-.94-2.06-.94-.94-2.06-.94 2.06-2.06.94z\"/><path d=\"M17.41 7.96l-1.37-1.37c-.4-.4-.92-.59-1.43-.59-.52 0-1.04.2-1.43.59L10.3 9.45l-7.72 7.72c-.78.78-.78 2.05 0 2.83L4 21.41c.39.39.9.59 1.41.59.51 0 1.02-.2 1.41-.59l7.78-7.78 2.81-2.81c.8-.78.8-2.07 0-2.86zM5.41 20L4 18.59l7.72-7.72 1.47 1.35L5.41 20z\"/>\n",
              "  </svg>\n",
              "      </button>\n",
              "      \n",
              "  <style>\n",
              "    .colab-df-container {\n",
              "      display:flex;\n",
              "      flex-wrap:wrap;\n",
              "      gap: 12px;\n",
              "    }\n",
              "\n",
              "    .colab-df-convert {\n",
              "      background-color: #E8F0FE;\n",
              "      border: none;\n",
              "      border-radius: 50%;\n",
              "      cursor: pointer;\n",
              "      display: none;\n",
              "      fill: #1967D2;\n",
              "      height: 32px;\n",
              "      padding: 0 0 0 0;\n",
              "      width: 32px;\n",
              "    }\n",
              "\n",
              "    .colab-df-convert:hover {\n",
              "      background-color: #E2EBFA;\n",
              "      box-shadow: 0px 1px 2px rgba(60, 64, 67, 0.3), 0px 1px 3px 1px rgba(60, 64, 67, 0.15);\n",
              "      fill: #174EA6;\n",
              "    }\n",
              "\n",
              "    [theme=dark] .colab-df-convert {\n",
              "      background-color: #3B4455;\n",
              "      fill: #D2E3FC;\n",
              "    }\n",
              "\n",
              "    [theme=dark] .colab-df-convert:hover {\n",
              "      background-color: #434B5C;\n",
              "      box-shadow: 0px 1px 3px 1px rgba(0, 0, 0, 0.15);\n",
              "      filter: drop-shadow(0px 1px 2px rgba(0, 0, 0, 0.3));\n",
              "      fill: #FFFFFF;\n",
              "    }\n",
              "  </style>\n",
              "\n",
              "      <script>\n",
              "        const buttonEl =\n",
              "          document.querySelector('#df-297ce69a-ec47-4a29-9855-cc2b84b43d99 button.colab-df-convert');\n",
              "        buttonEl.style.display =\n",
              "          google.colab.kernel.accessAllowed ? 'block' : 'none';\n",
              "\n",
              "        async function convertToInteractive(key) {\n",
              "          const element = document.querySelector('#df-297ce69a-ec47-4a29-9855-cc2b84b43d99');\n",
              "          const dataTable =\n",
              "            await google.colab.kernel.invokeFunction('convertToInteractive',\n",
              "                                                     [key], {});\n",
              "          if (!dataTable) return;\n",
              "\n",
              "          const docLinkHtml = 'Like what you see? Visit the ' +\n",
              "            '<a target=\"_blank\" href=https://colab.research.google.com/notebooks/data_table.ipynb>data table notebook</a>'\n",
              "            + ' to learn more about interactive tables.';\n",
              "          element.innerHTML = '';\n",
              "          dataTable['output_type'] = 'display_data';\n",
              "          await google.colab.output.renderOutput(dataTable, element);\n",
              "          const docLink = document.createElement('div');\n",
              "          docLink.innerHTML = docLinkHtml;\n",
              "          element.appendChild(docLink);\n",
              "        }\n",
              "      </script>\n",
              "    </div>\n",
              "  </div>\n",
              "  "
            ]
          },
          "metadata": {},
          "execution_count": 4
        }
      ]
    },
    {
      "cell_type": "markdown",
      "source": [
        "Here's a breakdown of each feature:\n",
        "\n",
        "- **open_time**: This represents the opening time of a specific period in Unix time format. Unix time is a way to represent time as the number of seconds that have elapsed since January 1, 1970.\n",
        "\n",
        "- **open**: This refers to the opening price of the trading instrument at the given period.\n",
        "\n",
        "- **high**: This represents the highest price reached by the trading instrument during the specified period.\n",
        "\n",
        "- **low**: This denotes the lowest price reached by the trading instrument during the specified period.\n",
        "\n",
        "- **close**: This indicates the closing price of the trading instrument at the given period.\n",
        "\n",
        "- **volume**: This refers to the total volume, typically the quantity of the trading instrument, traded during the specified period.\n",
        "\n",
        "- **close_time**: This represents the closing time of the specific period in Unix time format.\n",
        "\n",
        "- **quote_volume**: This refers to the total volume in terms of the quote asset. The quote asset is the asset used to determine the value of the trading instrument.\n",
        "\n",
        "- **count**: This represents the number of trades that occurred during the specified period.\n",
        "\n",
        "- **taker_buy_volume**: This denotes the volume of the quote asset bought by takers (market takers) during the specified period.\n",
        "\n",
        "- **taker_buy_quote_volume**: This represents the volume of the base asset bought by takers (market takers) during the specified period."
      ],
      "metadata": {
        "id": "VtonmnjpZgov"
      }
    },
    {
      "cell_type": "code",
      "source": [
        "# Renaming the columns to match the name in the previous notebook with bitstamp data so that I do not have to change the whole code\n",
        "data_ETH.rename(columns = {'open_time':'date', 'volume':'Volume'}, inplace = True)"
      ],
      "metadata": {
        "id": "HohJ---lhKab"
      },
      "execution_count": 5,
      "outputs": []
    },
    {
      "cell_type": "code",
      "source": [
        "data_ETH.head()"
      ],
      "metadata": {
        "colab": {
          "base_uri": "https://localhost:8080/",
          "height": 206
        },
        "id": "ZMUHxe6UQ_UT",
        "outputId": "164cdb9e-9f9b-48ac-e969-5b5e7d01a615"
      },
      "execution_count": 6,
      "outputs": [
        {
          "output_type": "execute_result",
          "data": {
            "text/plain": [
              "                  date    open    high     low   close      Volume  \\\n",
              "0  2019-09-01 00:00:00  171.52  172.89  171.36  172.45  5981.16399   \n",
              "1  2019-09-01 01:00:00  172.47  173.42  172.41  172.71  7929.54701   \n",
              "2  2019-09-01 02:00:00  172.67  172.97  172.02  172.43  2650.04457   \n",
              "3  2019-09-01 03:00:00  172.41  172.83  172.32  172.57  2676.49085   \n",
              "4  2019-09-01 04:00:00  172.50  172.74  172.11  172.46  2596.85893   \n",
              "\n",
              "                close_time  quote_volume  count  taker_buy_volume  \\\n",
              "0  2019-09-01 00:59:59.999  1.030126e+06   3753        3576.32332   \n",
              "1  2019-09-01 01:59:59.999  1.372183e+06   3310        5532.93656   \n",
              "2  2019-09-01 02:59:59.999  4.568114e+05   2666        1333.25886   \n",
              "3  2019-09-01 03:59:59.999  4.618308e+05   2612        1445.60395   \n",
              "4  2019-09-01 04:59:59.999  4.476401e+05   2848        1524.31952   \n",
              "\n",
              "   taker_buy_quote_volume  \n",
              "0           615886.585686  \n",
              "1           957301.238661  \n",
              "2           229852.921103  \n",
              "3           249450.124375  \n",
              "4           262782.612091  "
            ],
            "text/html": [
              "\n",
              "  <div id=\"df-e599956d-4e8a-4cb1-9f7d-0c8ebf3520e8\">\n",
              "    <div class=\"colab-df-container\">\n",
              "      <div>\n",
              "<style scoped>\n",
              "    .dataframe tbody tr th:only-of-type {\n",
              "        vertical-align: middle;\n",
              "    }\n",
              "\n",
              "    .dataframe tbody tr th {\n",
              "        vertical-align: top;\n",
              "    }\n",
              "\n",
              "    .dataframe thead th {\n",
              "        text-align: right;\n",
              "    }\n",
              "</style>\n",
              "<table border=\"1\" class=\"dataframe\">\n",
              "  <thead>\n",
              "    <tr style=\"text-align: right;\">\n",
              "      <th></th>\n",
              "      <th>date</th>\n",
              "      <th>open</th>\n",
              "      <th>high</th>\n",
              "      <th>low</th>\n",
              "      <th>close</th>\n",
              "      <th>Volume</th>\n",
              "      <th>close_time</th>\n",
              "      <th>quote_volume</th>\n",
              "      <th>count</th>\n",
              "      <th>taker_buy_volume</th>\n",
              "      <th>taker_buy_quote_volume</th>\n",
              "    </tr>\n",
              "  </thead>\n",
              "  <tbody>\n",
              "    <tr>\n",
              "      <th>0</th>\n",
              "      <td>2019-09-01 00:00:00</td>\n",
              "      <td>171.52</td>\n",
              "      <td>172.89</td>\n",
              "      <td>171.36</td>\n",
              "      <td>172.45</td>\n",
              "      <td>5981.16399</td>\n",
              "      <td>2019-09-01 00:59:59.999</td>\n",
              "      <td>1.030126e+06</td>\n",
              "      <td>3753</td>\n",
              "      <td>3576.32332</td>\n",
              "      <td>615886.585686</td>\n",
              "    </tr>\n",
              "    <tr>\n",
              "      <th>1</th>\n",
              "      <td>2019-09-01 01:00:00</td>\n",
              "      <td>172.47</td>\n",
              "      <td>173.42</td>\n",
              "      <td>172.41</td>\n",
              "      <td>172.71</td>\n",
              "      <td>7929.54701</td>\n",
              "      <td>2019-09-01 01:59:59.999</td>\n",
              "      <td>1.372183e+06</td>\n",
              "      <td>3310</td>\n",
              "      <td>5532.93656</td>\n",
              "      <td>957301.238661</td>\n",
              "    </tr>\n",
              "    <tr>\n",
              "      <th>2</th>\n",
              "      <td>2019-09-01 02:00:00</td>\n",
              "      <td>172.67</td>\n",
              "      <td>172.97</td>\n",
              "      <td>172.02</td>\n",
              "      <td>172.43</td>\n",
              "      <td>2650.04457</td>\n",
              "      <td>2019-09-01 02:59:59.999</td>\n",
              "      <td>4.568114e+05</td>\n",
              "      <td>2666</td>\n",
              "      <td>1333.25886</td>\n",
              "      <td>229852.921103</td>\n",
              "    </tr>\n",
              "    <tr>\n",
              "      <th>3</th>\n",
              "      <td>2019-09-01 03:00:00</td>\n",
              "      <td>172.41</td>\n",
              "      <td>172.83</td>\n",
              "      <td>172.32</td>\n",
              "      <td>172.57</td>\n",
              "      <td>2676.49085</td>\n",
              "      <td>2019-09-01 03:59:59.999</td>\n",
              "      <td>4.618308e+05</td>\n",
              "      <td>2612</td>\n",
              "      <td>1445.60395</td>\n",
              "      <td>249450.124375</td>\n",
              "    </tr>\n",
              "    <tr>\n",
              "      <th>4</th>\n",
              "      <td>2019-09-01 04:00:00</td>\n",
              "      <td>172.50</td>\n",
              "      <td>172.74</td>\n",
              "      <td>172.11</td>\n",
              "      <td>172.46</td>\n",
              "      <td>2596.85893</td>\n",
              "      <td>2019-09-01 04:59:59.999</td>\n",
              "      <td>4.476401e+05</td>\n",
              "      <td>2848</td>\n",
              "      <td>1524.31952</td>\n",
              "      <td>262782.612091</td>\n",
              "    </tr>\n",
              "  </tbody>\n",
              "</table>\n",
              "</div>\n",
              "      <button class=\"colab-df-convert\" onclick=\"convertToInteractive('df-e599956d-4e8a-4cb1-9f7d-0c8ebf3520e8')\"\n",
              "              title=\"Convert this dataframe to an interactive table.\"\n",
              "              style=\"display:none;\">\n",
              "        \n",
              "  <svg xmlns=\"http://www.w3.org/2000/svg\" height=\"24px\"viewBox=\"0 0 24 24\"\n",
              "       width=\"24px\">\n",
              "    <path d=\"M0 0h24v24H0V0z\" fill=\"none\"/>\n",
              "    <path d=\"M18.56 5.44l.94 2.06.94-2.06 2.06-.94-2.06-.94-.94-2.06-.94 2.06-2.06.94zm-11 1L8.5 8.5l.94-2.06 2.06-.94-2.06-.94L8.5 2.5l-.94 2.06-2.06.94zm10 10l.94 2.06.94-2.06 2.06-.94-2.06-.94-.94-2.06-.94 2.06-2.06.94z\"/><path d=\"M17.41 7.96l-1.37-1.37c-.4-.4-.92-.59-1.43-.59-.52 0-1.04.2-1.43.59L10.3 9.45l-7.72 7.72c-.78.78-.78 2.05 0 2.83L4 21.41c.39.39.9.59 1.41.59.51 0 1.02-.2 1.41-.59l7.78-7.78 2.81-2.81c.8-.78.8-2.07 0-2.86zM5.41 20L4 18.59l7.72-7.72 1.47 1.35L5.41 20z\"/>\n",
              "  </svg>\n",
              "      </button>\n",
              "      \n",
              "  <style>\n",
              "    .colab-df-container {\n",
              "      display:flex;\n",
              "      flex-wrap:wrap;\n",
              "      gap: 12px;\n",
              "    }\n",
              "\n",
              "    .colab-df-convert {\n",
              "      background-color: #E8F0FE;\n",
              "      border: none;\n",
              "      border-radius: 50%;\n",
              "      cursor: pointer;\n",
              "      display: none;\n",
              "      fill: #1967D2;\n",
              "      height: 32px;\n",
              "      padding: 0 0 0 0;\n",
              "      width: 32px;\n",
              "    }\n",
              "\n",
              "    .colab-df-convert:hover {\n",
              "      background-color: #E2EBFA;\n",
              "      box-shadow: 0px 1px 2px rgba(60, 64, 67, 0.3), 0px 1px 3px 1px rgba(60, 64, 67, 0.15);\n",
              "      fill: #174EA6;\n",
              "    }\n",
              "\n",
              "    [theme=dark] .colab-df-convert {\n",
              "      background-color: #3B4455;\n",
              "      fill: #D2E3FC;\n",
              "    }\n",
              "\n",
              "    [theme=dark] .colab-df-convert:hover {\n",
              "      background-color: #434B5C;\n",
              "      box-shadow: 0px 1px 3px 1px rgba(0, 0, 0, 0.15);\n",
              "      filter: drop-shadow(0px 1px 2px rgba(0, 0, 0, 0.3));\n",
              "      fill: #FFFFFF;\n",
              "    }\n",
              "  </style>\n",
              "\n",
              "      <script>\n",
              "        const buttonEl =\n",
              "          document.querySelector('#df-e599956d-4e8a-4cb1-9f7d-0c8ebf3520e8 button.colab-df-convert');\n",
              "        buttonEl.style.display =\n",
              "          google.colab.kernel.accessAllowed ? 'block' : 'none';\n",
              "\n",
              "        async function convertToInteractive(key) {\n",
              "          const element = document.querySelector('#df-e599956d-4e8a-4cb1-9f7d-0c8ebf3520e8');\n",
              "          const dataTable =\n",
              "            await google.colab.kernel.invokeFunction('convertToInteractive',\n",
              "                                                     [key], {});\n",
              "          if (!dataTable) return;\n",
              "\n",
              "          const docLinkHtml = 'Like what you see? Visit the ' +\n",
              "            '<a target=\"_blank\" href=https://colab.research.google.com/notebooks/data_table.ipynb>data table notebook</a>'\n",
              "            + ' to learn more about interactive tables.';\n",
              "          element.innerHTML = '';\n",
              "          dataTable['output_type'] = 'display_data';\n",
              "          await google.colab.output.renderOutput(dataTable, element);\n",
              "          const docLink = document.createElement('div');\n",
              "          docLink.innerHTML = docLinkHtml;\n",
              "          element.appendChild(docLink);\n",
              "        }\n",
              "      </script>\n",
              "    </div>\n",
              "  </div>\n",
              "  "
            ]
          },
          "metadata": {},
          "execution_count": 6
        }
      ]
    },
    {
      "cell_type": "code",
      "source": [
        "data_ETH.info()"
      ],
      "metadata": {
        "colab": {
          "base_uri": "https://localhost:8080/"
        },
        "id": "1GliFMaDQmFP",
        "outputId": "c201e1bc-37e4-4893-e240-9c86346efe7e"
      },
      "execution_count": 7,
      "outputs": [
        {
          "output_type": "stream",
          "name": "stdout",
          "text": [
            "<class 'pandas.core.frame.DataFrame'>\n",
            "RangeIndex: 32821 entries, 0 to 32820\n",
            "Data columns (total 11 columns):\n",
            " #   Column                  Non-Null Count  Dtype  \n",
            "---  ------                  --------------  -----  \n",
            " 0   date                    32821 non-null  object \n",
            " 1   open                    32821 non-null  float64\n",
            " 2   high                    32821 non-null  float64\n",
            " 3   low                     32821 non-null  float64\n",
            " 4   close                   32821 non-null  float64\n",
            " 5   Volume                  32821 non-null  float64\n",
            " 6   close_time              32821 non-null  object \n",
            " 7   quote_volume            32821 non-null  float64\n",
            " 8   count                   32821 non-null  int64  \n",
            " 9   taker_buy_volume        32821 non-null  float64\n",
            " 10  taker_buy_quote_volume  32821 non-null  float64\n",
            "dtypes: float64(8), int64(1), object(2)\n",
            "memory usage: 2.8+ MB\n"
          ]
        }
      ]
    },
    {
      "cell_type": "code",
      "source": [
        "# Removing close time column\n",
        "\n",
        "data_ETH = data_ETH.drop(columns=['close_time'])"
      ],
      "metadata": {
        "id": "hO97L8vsMENy"
      },
      "execution_count": 8,
      "outputs": []
    },
    {
      "cell_type": "code",
      "source": [
        "data_ETH.head()"
      ],
      "metadata": {
        "colab": {
          "base_uri": "https://localhost:8080/",
          "height": 206
        },
        "outputId": "7788e13b-d3fb-42e4-d70d-fa61a75985e4",
        "id": "K6FTgiZJRQC4"
      },
      "execution_count": 9,
      "outputs": [
        {
          "output_type": "execute_result",
          "data": {
            "text/plain": [
              "                  date    open    high     low   close      Volume  \\\n",
              "0  2019-09-01 00:00:00  171.52  172.89  171.36  172.45  5981.16399   \n",
              "1  2019-09-01 01:00:00  172.47  173.42  172.41  172.71  7929.54701   \n",
              "2  2019-09-01 02:00:00  172.67  172.97  172.02  172.43  2650.04457   \n",
              "3  2019-09-01 03:00:00  172.41  172.83  172.32  172.57  2676.49085   \n",
              "4  2019-09-01 04:00:00  172.50  172.74  172.11  172.46  2596.85893   \n",
              "\n",
              "   quote_volume  count  taker_buy_volume  taker_buy_quote_volume  \n",
              "0  1.030126e+06   3753        3576.32332           615886.585686  \n",
              "1  1.372183e+06   3310        5532.93656           957301.238661  \n",
              "2  4.568114e+05   2666        1333.25886           229852.921103  \n",
              "3  4.618308e+05   2612        1445.60395           249450.124375  \n",
              "4  4.476401e+05   2848        1524.31952           262782.612091  "
            ],
            "text/html": [
              "\n",
              "  <div id=\"df-1a15ec5d-a401-4247-ba8d-e895c908203e\">\n",
              "    <div class=\"colab-df-container\">\n",
              "      <div>\n",
              "<style scoped>\n",
              "    .dataframe tbody tr th:only-of-type {\n",
              "        vertical-align: middle;\n",
              "    }\n",
              "\n",
              "    .dataframe tbody tr th {\n",
              "        vertical-align: top;\n",
              "    }\n",
              "\n",
              "    .dataframe thead th {\n",
              "        text-align: right;\n",
              "    }\n",
              "</style>\n",
              "<table border=\"1\" class=\"dataframe\">\n",
              "  <thead>\n",
              "    <tr style=\"text-align: right;\">\n",
              "      <th></th>\n",
              "      <th>date</th>\n",
              "      <th>open</th>\n",
              "      <th>high</th>\n",
              "      <th>low</th>\n",
              "      <th>close</th>\n",
              "      <th>Volume</th>\n",
              "      <th>quote_volume</th>\n",
              "      <th>count</th>\n",
              "      <th>taker_buy_volume</th>\n",
              "      <th>taker_buy_quote_volume</th>\n",
              "    </tr>\n",
              "  </thead>\n",
              "  <tbody>\n",
              "    <tr>\n",
              "      <th>0</th>\n",
              "      <td>2019-09-01 00:00:00</td>\n",
              "      <td>171.52</td>\n",
              "      <td>172.89</td>\n",
              "      <td>171.36</td>\n",
              "      <td>172.45</td>\n",
              "      <td>5981.16399</td>\n",
              "      <td>1.030126e+06</td>\n",
              "      <td>3753</td>\n",
              "      <td>3576.32332</td>\n",
              "      <td>615886.585686</td>\n",
              "    </tr>\n",
              "    <tr>\n",
              "      <th>1</th>\n",
              "      <td>2019-09-01 01:00:00</td>\n",
              "      <td>172.47</td>\n",
              "      <td>173.42</td>\n",
              "      <td>172.41</td>\n",
              "      <td>172.71</td>\n",
              "      <td>7929.54701</td>\n",
              "      <td>1.372183e+06</td>\n",
              "      <td>3310</td>\n",
              "      <td>5532.93656</td>\n",
              "      <td>957301.238661</td>\n",
              "    </tr>\n",
              "    <tr>\n",
              "      <th>2</th>\n",
              "      <td>2019-09-01 02:00:00</td>\n",
              "      <td>172.67</td>\n",
              "      <td>172.97</td>\n",
              "      <td>172.02</td>\n",
              "      <td>172.43</td>\n",
              "      <td>2650.04457</td>\n",
              "      <td>4.568114e+05</td>\n",
              "      <td>2666</td>\n",
              "      <td>1333.25886</td>\n",
              "      <td>229852.921103</td>\n",
              "    </tr>\n",
              "    <tr>\n",
              "      <th>3</th>\n",
              "      <td>2019-09-01 03:00:00</td>\n",
              "      <td>172.41</td>\n",
              "      <td>172.83</td>\n",
              "      <td>172.32</td>\n",
              "      <td>172.57</td>\n",
              "      <td>2676.49085</td>\n",
              "      <td>4.618308e+05</td>\n",
              "      <td>2612</td>\n",
              "      <td>1445.60395</td>\n",
              "      <td>249450.124375</td>\n",
              "    </tr>\n",
              "    <tr>\n",
              "      <th>4</th>\n",
              "      <td>2019-09-01 04:00:00</td>\n",
              "      <td>172.50</td>\n",
              "      <td>172.74</td>\n",
              "      <td>172.11</td>\n",
              "      <td>172.46</td>\n",
              "      <td>2596.85893</td>\n",
              "      <td>4.476401e+05</td>\n",
              "      <td>2848</td>\n",
              "      <td>1524.31952</td>\n",
              "      <td>262782.612091</td>\n",
              "    </tr>\n",
              "  </tbody>\n",
              "</table>\n",
              "</div>\n",
              "      <button class=\"colab-df-convert\" onclick=\"convertToInteractive('df-1a15ec5d-a401-4247-ba8d-e895c908203e')\"\n",
              "              title=\"Convert this dataframe to an interactive table.\"\n",
              "              style=\"display:none;\">\n",
              "        \n",
              "  <svg xmlns=\"http://www.w3.org/2000/svg\" height=\"24px\"viewBox=\"0 0 24 24\"\n",
              "       width=\"24px\">\n",
              "    <path d=\"M0 0h24v24H0V0z\" fill=\"none\"/>\n",
              "    <path d=\"M18.56 5.44l.94 2.06.94-2.06 2.06-.94-2.06-.94-.94-2.06-.94 2.06-2.06.94zm-11 1L8.5 8.5l.94-2.06 2.06-.94-2.06-.94L8.5 2.5l-.94 2.06-2.06.94zm10 10l.94 2.06.94-2.06 2.06-.94-2.06-.94-.94-2.06-.94 2.06-2.06.94z\"/><path d=\"M17.41 7.96l-1.37-1.37c-.4-.4-.92-.59-1.43-.59-.52 0-1.04.2-1.43.59L10.3 9.45l-7.72 7.72c-.78.78-.78 2.05 0 2.83L4 21.41c.39.39.9.59 1.41.59.51 0 1.02-.2 1.41-.59l7.78-7.78 2.81-2.81c.8-.78.8-2.07 0-2.86zM5.41 20L4 18.59l7.72-7.72 1.47 1.35L5.41 20z\"/>\n",
              "  </svg>\n",
              "      </button>\n",
              "      \n",
              "  <style>\n",
              "    .colab-df-container {\n",
              "      display:flex;\n",
              "      flex-wrap:wrap;\n",
              "      gap: 12px;\n",
              "    }\n",
              "\n",
              "    .colab-df-convert {\n",
              "      background-color: #E8F0FE;\n",
              "      border: none;\n",
              "      border-radius: 50%;\n",
              "      cursor: pointer;\n",
              "      display: none;\n",
              "      fill: #1967D2;\n",
              "      height: 32px;\n",
              "      padding: 0 0 0 0;\n",
              "      width: 32px;\n",
              "    }\n",
              "\n",
              "    .colab-df-convert:hover {\n",
              "      background-color: #E2EBFA;\n",
              "      box-shadow: 0px 1px 2px rgba(60, 64, 67, 0.3), 0px 1px 3px 1px rgba(60, 64, 67, 0.15);\n",
              "      fill: #174EA6;\n",
              "    }\n",
              "\n",
              "    [theme=dark] .colab-df-convert {\n",
              "      background-color: #3B4455;\n",
              "      fill: #D2E3FC;\n",
              "    }\n",
              "\n",
              "    [theme=dark] .colab-df-convert:hover {\n",
              "      background-color: #434B5C;\n",
              "      box-shadow: 0px 1px 3px 1px rgba(0, 0, 0, 0.15);\n",
              "      filter: drop-shadow(0px 1px 2px rgba(0, 0, 0, 0.3));\n",
              "      fill: #FFFFFF;\n",
              "    }\n",
              "  </style>\n",
              "\n",
              "      <script>\n",
              "        const buttonEl =\n",
              "          document.querySelector('#df-1a15ec5d-a401-4247-ba8d-e895c908203e button.colab-df-convert');\n",
              "        buttonEl.style.display =\n",
              "          google.colab.kernel.accessAllowed ? 'block' : 'none';\n",
              "\n",
              "        async function convertToInteractive(key) {\n",
              "          const element = document.querySelector('#df-1a15ec5d-a401-4247-ba8d-e895c908203e');\n",
              "          const dataTable =\n",
              "            await google.colab.kernel.invokeFunction('convertToInteractive',\n",
              "                                                     [key], {});\n",
              "          if (!dataTable) return;\n",
              "\n",
              "          const docLinkHtml = 'Like what you see? Visit the ' +\n",
              "            '<a target=\"_blank\" href=https://colab.research.google.com/notebooks/data_table.ipynb>data table notebook</a>'\n",
              "            + ' to learn more about interactive tables.';\n",
              "          element.innerHTML = '';\n",
              "          dataTable['output_type'] = 'display_data';\n",
              "          await google.colab.output.renderOutput(dataTable, element);\n",
              "          const docLink = document.createElement('div');\n",
              "          docLink.innerHTML = docLinkHtml;\n",
              "          element.appendChild(docLink);\n",
              "        }\n",
              "      </script>\n",
              "    </div>\n",
              "  </div>\n",
              "  "
            ]
          },
          "metadata": {},
          "execution_count": 9
        }
      ]
    },
    {
      "cell_type": "markdown",
      "source": [
        "# EDA"
      ],
      "metadata": {
        "id": "aaC8yAQIAuMM"
      }
    },
    {
      "cell_type": "markdown",
      "source": [
        "## Converting to Datetime"
      ],
      "metadata": {
        "id": "BB929Pzb7UuB"
      }
    },
    {
      "cell_type": "code",
      "execution_count": 10,
      "metadata": {
        "execution": {
          "iopub.execute_input": "2022-08-24T10:14:28.442870Z",
          "iopub.status.busy": "2022-08-24T10:14:28.442474Z",
          "iopub.status.idle": "2022-08-24T10:14:39.013641Z",
          "shell.execute_reply": "2022-08-24T10:14:39.012362Z",
          "shell.execute_reply.started": "2022-08-24T10:14:28.442833Z"
        },
        "id": "LwvDyF2UQn32"
      },
      "outputs": [],
      "source": [
        "# Converting the Date column from object to datetime\n",
        "data_ETH[[\"date\"]] = data_ETH[[\"date\"]].apply(pd.to_datetime)"
      ]
    },
    {
      "cell_type": "code",
      "source": [
        "data_ETH.info()"
      ],
      "metadata": {
        "colab": {
          "base_uri": "https://localhost:8080/"
        },
        "id": "IpHWXzQBRZg0",
        "outputId": "ce53b65b-6533-428d-fa8c-ef4d7b3432aa"
      },
      "execution_count": 11,
      "outputs": [
        {
          "output_type": "stream",
          "name": "stdout",
          "text": [
            "<class 'pandas.core.frame.DataFrame'>\n",
            "RangeIndex: 32821 entries, 0 to 32820\n",
            "Data columns (total 10 columns):\n",
            " #   Column                  Non-Null Count  Dtype         \n",
            "---  ------                  --------------  -----         \n",
            " 0   date                    32821 non-null  datetime64[ns]\n",
            " 1   open                    32821 non-null  float64       \n",
            " 2   high                    32821 non-null  float64       \n",
            " 3   low                     32821 non-null  float64       \n",
            " 4   close                   32821 non-null  float64       \n",
            " 5   Volume                  32821 non-null  float64       \n",
            " 6   quote_volume            32821 non-null  float64       \n",
            " 7   count                   32821 non-null  int64         \n",
            " 8   taker_buy_volume        32821 non-null  float64       \n",
            " 9   taker_buy_quote_volume  32821 non-null  float64       \n",
            "dtypes: datetime64[ns](1), float64(8), int64(1)\n",
            "memory usage: 2.5 MB\n"
          ]
        }
      ]
    },
    {
      "cell_type": "markdown",
      "source": [
        "## Missing Data"
      ],
      "metadata": {
        "id": "6kJZWLC9BHIQ"
      }
    },
    {
      "cell_type": "code",
      "source": [
        "data_ETH.isnull().any()"
      ],
      "metadata": {
        "colab": {
          "base_uri": "https://localhost:8080/"
        },
        "id": "Xorx8mwnRgM2",
        "outputId": "ca0fb8a9-4834-4fe6-8fd7-861bde01f2c9"
      },
      "execution_count": 12,
      "outputs": [
        {
          "output_type": "execute_result",
          "data": {
            "text/plain": [
              "date                      False\n",
              "open                      False\n",
              "high                      False\n",
              "low                       False\n",
              "close                     False\n",
              "Volume                    False\n",
              "quote_volume              False\n",
              "count                     False\n",
              "taker_buy_volume          False\n",
              "taker_buy_quote_volume    False\n",
              "dtype: bool"
            ]
          },
          "metadata": {},
          "execution_count": 12
        }
      ]
    },
    {
      "cell_type": "markdown",
      "source": [
        "# Modeling"
      ],
      "metadata": {
        "id": "wUgpj4Q2_gUn"
      }
    },
    {
      "cell_type": "code",
      "source": [
        "data_ETH.head()"
      ],
      "metadata": {
        "colab": {
          "base_uri": "https://localhost:8080/",
          "height": 206
        },
        "id": "7QunwJxTBitl",
        "outputId": "852ee72c-7374-4b25-a671-c36905dcd793"
      },
      "execution_count": 13,
      "outputs": [
        {
          "output_type": "execute_result",
          "data": {
            "text/plain": [
              "                 date    open    high     low   close      Volume  \\\n",
              "0 2019-09-01 00:00:00  171.52  172.89  171.36  172.45  5981.16399   \n",
              "1 2019-09-01 01:00:00  172.47  173.42  172.41  172.71  7929.54701   \n",
              "2 2019-09-01 02:00:00  172.67  172.97  172.02  172.43  2650.04457   \n",
              "3 2019-09-01 03:00:00  172.41  172.83  172.32  172.57  2676.49085   \n",
              "4 2019-09-01 04:00:00  172.50  172.74  172.11  172.46  2596.85893   \n",
              "\n",
              "   quote_volume  count  taker_buy_volume  taker_buy_quote_volume  \n",
              "0  1.030126e+06   3753        3576.32332           615886.585686  \n",
              "1  1.372183e+06   3310        5532.93656           957301.238661  \n",
              "2  4.568114e+05   2666        1333.25886           229852.921103  \n",
              "3  4.618308e+05   2612        1445.60395           249450.124375  \n",
              "4  4.476401e+05   2848        1524.31952           262782.612091  "
            ],
            "text/html": [
              "\n",
              "  <div id=\"df-9c185c9a-78bc-46ec-9f1e-46d8df262498\">\n",
              "    <div class=\"colab-df-container\">\n",
              "      <div>\n",
              "<style scoped>\n",
              "    .dataframe tbody tr th:only-of-type {\n",
              "        vertical-align: middle;\n",
              "    }\n",
              "\n",
              "    .dataframe tbody tr th {\n",
              "        vertical-align: top;\n",
              "    }\n",
              "\n",
              "    .dataframe thead th {\n",
              "        text-align: right;\n",
              "    }\n",
              "</style>\n",
              "<table border=\"1\" class=\"dataframe\">\n",
              "  <thead>\n",
              "    <tr style=\"text-align: right;\">\n",
              "      <th></th>\n",
              "      <th>date</th>\n",
              "      <th>open</th>\n",
              "      <th>high</th>\n",
              "      <th>low</th>\n",
              "      <th>close</th>\n",
              "      <th>Volume</th>\n",
              "      <th>quote_volume</th>\n",
              "      <th>count</th>\n",
              "      <th>taker_buy_volume</th>\n",
              "      <th>taker_buy_quote_volume</th>\n",
              "    </tr>\n",
              "  </thead>\n",
              "  <tbody>\n",
              "    <tr>\n",
              "      <th>0</th>\n",
              "      <td>2019-09-01 00:00:00</td>\n",
              "      <td>171.52</td>\n",
              "      <td>172.89</td>\n",
              "      <td>171.36</td>\n",
              "      <td>172.45</td>\n",
              "      <td>5981.16399</td>\n",
              "      <td>1.030126e+06</td>\n",
              "      <td>3753</td>\n",
              "      <td>3576.32332</td>\n",
              "      <td>615886.585686</td>\n",
              "    </tr>\n",
              "    <tr>\n",
              "      <th>1</th>\n",
              "      <td>2019-09-01 01:00:00</td>\n",
              "      <td>172.47</td>\n",
              "      <td>173.42</td>\n",
              "      <td>172.41</td>\n",
              "      <td>172.71</td>\n",
              "      <td>7929.54701</td>\n",
              "      <td>1.372183e+06</td>\n",
              "      <td>3310</td>\n",
              "      <td>5532.93656</td>\n",
              "      <td>957301.238661</td>\n",
              "    </tr>\n",
              "    <tr>\n",
              "      <th>2</th>\n",
              "      <td>2019-09-01 02:00:00</td>\n",
              "      <td>172.67</td>\n",
              "      <td>172.97</td>\n",
              "      <td>172.02</td>\n",
              "      <td>172.43</td>\n",
              "      <td>2650.04457</td>\n",
              "      <td>4.568114e+05</td>\n",
              "      <td>2666</td>\n",
              "      <td>1333.25886</td>\n",
              "      <td>229852.921103</td>\n",
              "    </tr>\n",
              "    <tr>\n",
              "      <th>3</th>\n",
              "      <td>2019-09-01 03:00:00</td>\n",
              "      <td>172.41</td>\n",
              "      <td>172.83</td>\n",
              "      <td>172.32</td>\n",
              "      <td>172.57</td>\n",
              "      <td>2676.49085</td>\n",
              "      <td>4.618308e+05</td>\n",
              "      <td>2612</td>\n",
              "      <td>1445.60395</td>\n",
              "      <td>249450.124375</td>\n",
              "    </tr>\n",
              "    <tr>\n",
              "      <th>4</th>\n",
              "      <td>2019-09-01 04:00:00</td>\n",
              "      <td>172.50</td>\n",
              "      <td>172.74</td>\n",
              "      <td>172.11</td>\n",
              "      <td>172.46</td>\n",
              "      <td>2596.85893</td>\n",
              "      <td>4.476401e+05</td>\n",
              "      <td>2848</td>\n",
              "      <td>1524.31952</td>\n",
              "      <td>262782.612091</td>\n",
              "    </tr>\n",
              "  </tbody>\n",
              "</table>\n",
              "</div>\n",
              "      <button class=\"colab-df-convert\" onclick=\"convertToInteractive('df-9c185c9a-78bc-46ec-9f1e-46d8df262498')\"\n",
              "              title=\"Convert this dataframe to an interactive table.\"\n",
              "              style=\"display:none;\">\n",
              "        \n",
              "  <svg xmlns=\"http://www.w3.org/2000/svg\" height=\"24px\"viewBox=\"0 0 24 24\"\n",
              "       width=\"24px\">\n",
              "    <path d=\"M0 0h24v24H0V0z\" fill=\"none\"/>\n",
              "    <path d=\"M18.56 5.44l.94 2.06.94-2.06 2.06-.94-2.06-.94-.94-2.06-.94 2.06-2.06.94zm-11 1L8.5 8.5l.94-2.06 2.06-.94-2.06-.94L8.5 2.5l-.94 2.06-2.06.94zm10 10l.94 2.06.94-2.06 2.06-.94-2.06-.94-.94-2.06-.94 2.06-2.06.94z\"/><path d=\"M17.41 7.96l-1.37-1.37c-.4-.4-.92-.59-1.43-.59-.52 0-1.04.2-1.43.59L10.3 9.45l-7.72 7.72c-.78.78-.78 2.05 0 2.83L4 21.41c.39.39.9.59 1.41.59.51 0 1.02-.2 1.41-.59l7.78-7.78 2.81-2.81c.8-.78.8-2.07 0-2.86zM5.41 20L4 18.59l7.72-7.72 1.47 1.35L5.41 20z\"/>\n",
              "  </svg>\n",
              "      </button>\n",
              "      \n",
              "  <style>\n",
              "    .colab-df-container {\n",
              "      display:flex;\n",
              "      flex-wrap:wrap;\n",
              "      gap: 12px;\n",
              "    }\n",
              "\n",
              "    .colab-df-convert {\n",
              "      background-color: #E8F0FE;\n",
              "      border: none;\n",
              "      border-radius: 50%;\n",
              "      cursor: pointer;\n",
              "      display: none;\n",
              "      fill: #1967D2;\n",
              "      height: 32px;\n",
              "      padding: 0 0 0 0;\n",
              "      width: 32px;\n",
              "    }\n",
              "\n",
              "    .colab-df-convert:hover {\n",
              "      background-color: #E2EBFA;\n",
              "      box-shadow: 0px 1px 2px rgba(60, 64, 67, 0.3), 0px 1px 3px 1px rgba(60, 64, 67, 0.15);\n",
              "      fill: #174EA6;\n",
              "    }\n",
              "\n",
              "    [theme=dark] .colab-df-convert {\n",
              "      background-color: #3B4455;\n",
              "      fill: #D2E3FC;\n",
              "    }\n",
              "\n",
              "    [theme=dark] .colab-df-convert:hover {\n",
              "      background-color: #434B5C;\n",
              "      box-shadow: 0px 1px 3px 1px rgba(0, 0, 0, 0.15);\n",
              "      filter: drop-shadow(0px 1px 2px rgba(0, 0, 0, 0.3));\n",
              "      fill: #FFFFFF;\n",
              "    }\n",
              "  </style>\n",
              "\n",
              "      <script>\n",
              "        const buttonEl =\n",
              "          document.querySelector('#df-9c185c9a-78bc-46ec-9f1e-46d8df262498 button.colab-df-convert');\n",
              "        buttonEl.style.display =\n",
              "          google.colab.kernel.accessAllowed ? 'block' : 'none';\n",
              "\n",
              "        async function convertToInteractive(key) {\n",
              "          const element = document.querySelector('#df-9c185c9a-78bc-46ec-9f1e-46d8df262498');\n",
              "          const dataTable =\n",
              "            await google.colab.kernel.invokeFunction('convertToInteractive',\n",
              "                                                     [key], {});\n",
              "          if (!dataTable) return;\n",
              "\n",
              "          const docLinkHtml = 'Like what you see? Visit the ' +\n",
              "            '<a target=\"_blank\" href=https://colab.research.google.com/notebooks/data_table.ipynb>data table notebook</a>'\n",
              "            + ' to learn more about interactive tables.';\n",
              "          element.innerHTML = '';\n",
              "          dataTable['output_type'] = 'display_data';\n",
              "          await google.colab.output.renderOutput(dataTable, element);\n",
              "          const docLink = document.createElement('div');\n",
              "          docLink.innerHTML = docLinkHtml;\n",
              "          element.appendChild(docLink);\n",
              "        }\n",
              "      </script>\n",
              "    </div>\n",
              "  </div>\n",
              "  "
            ]
          },
          "metadata": {},
          "execution_count": 13
        }
      ]
    },
    {
      "cell_type": "markdown",
      "source": [
        "## Daily Dataframe"
      ],
      "metadata": {
        "id": "KRTMG-wPG1TZ"
      }
    },
    {
      "cell_type": "code",
      "execution_count": 30,
      "metadata": {
        "colab": {
          "base_uri": "https://localhost:8080/",
          "height": 206
        },
        "execution": {
          "iopub.execute_input": "2022-08-24T10:17:14.919554Z",
          "iopub.status.busy": "2022-08-24T10:17:14.918833Z",
          "iopub.status.idle": "2022-08-24T10:17:15.117246Z",
          "shell.execute_reply": "2022-08-24T10:17:15.115823Z",
          "shell.execute_reply.started": "2022-08-24T10:17:14.919490Z"
        },
        "id": "Z9m_wATGQn3-",
        "outputId": "a5e32cdf-3cd0-4563-df46-9580ab2cfa5b"
      },
      "outputs": [
        {
          "output_type": "execute_result",
          "data": {
            "text/plain": [
              "        date        open        high         low       close        Volume  \\\n",
              "0 2019-09-01  170.876250  171.441667  170.178750  170.858750   7964.188487   \n",
              "1 2019-09-02  173.000417  174.027083  172.603750  173.300000  12276.138020   \n",
              "2 2019-09-03  178.724167  179.689583  177.887917  178.773750  13660.743936   \n",
              "3 2019-09-04  177.194583  177.937917  176.277083  177.027917  11926.093821   \n",
              "4 2019-09-05  173.012500  173.705417  172.214167  172.975000   9698.076498   \n",
              "\n",
              "   quote_volume        count  taker_buy_volume  taker_buy_quote_volume  \n",
              "0  1.359474e+06  3876.500000       4390.231596            7.497815e+05  \n",
              "1  2.143599e+06  4858.166667       6596.848287            1.151255e+06  \n",
              "2  2.442576e+06  6156.583333       7055.815940            1.262071e+06  \n",
              "3  2.109558e+06  5845.750000       6289.365111            1.112851e+06  \n",
              "4  1.676979e+06  5142.666667       4995.959990            8.643510e+05  "
            ],
            "text/html": [
              "\n",
              "  <div id=\"df-1bfb9be8-fb8b-4f8d-9354-85625d1a05ae\">\n",
              "    <div class=\"colab-df-container\">\n",
              "      <div>\n",
              "<style scoped>\n",
              "    .dataframe tbody tr th:only-of-type {\n",
              "        vertical-align: middle;\n",
              "    }\n",
              "\n",
              "    .dataframe tbody tr th {\n",
              "        vertical-align: top;\n",
              "    }\n",
              "\n",
              "    .dataframe thead th {\n",
              "        text-align: right;\n",
              "    }\n",
              "</style>\n",
              "<table border=\"1\" class=\"dataframe\">\n",
              "  <thead>\n",
              "    <tr style=\"text-align: right;\">\n",
              "      <th></th>\n",
              "      <th>date</th>\n",
              "      <th>open</th>\n",
              "      <th>high</th>\n",
              "      <th>low</th>\n",
              "      <th>close</th>\n",
              "      <th>Volume</th>\n",
              "      <th>quote_volume</th>\n",
              "      <th>count</th>\n",
              "      <th>taker_buy_volume</th>\n",
              "      <th>taker_buy_quote_volume</th>\n",
              "    </tr>\n",
              "  </thead>\n",
              "  <tbody>\n",
              "    <tr>\n",
              "      <th>0</th>\n",
              "      <td>2019-09-01</td>\n",
              "      <td>170.876250</td>\n",
              "      <td>171.441667</td>\n",
              "      <td>170.178750</td>\n",
              "      <td>170.858750</td>\n",
              "      <td>7964.188487</td>\n",
              "      <td>1.359474e+06</td>\n",
              "      <td>3876.500000</td>\n",
              "      <td>4390.231596</td>\n",
              "      <td>7.497815e+05</td>\n",
              "    </tr>\n",
              "    <tr>\n",
              "      <th>1</th>\n",
              "      <td>2019-09-02</td>\n",
              "      <td>173.000417</td>\n",
              "      <td>174.027083</td>\n",
              "      <td>172.603750</td>\n",
              "      <td>173.300000</td>\n",
              "      <td>12276.138020</td>\n",
              "      <td>2.143599e+06</td>\n",
              "      <td>4858.166667</td>\n",
              "      <td>6596.848287</td>\n",
              "      <td>1.151255e+06</td>\n",
              "    </tr>\n",
              "    <tr>\n",
              "      <th>2</th>\n",
              "      <td>2019-09-03</td>\n",
              "      <td>178.724167</td>\n",
              "      <td>179.689583</td>\n",
              "      <td>177.887917</td>\n",
              "      <td>178.773750</td>\n",
              "      <td>13660.743936</td>\n",
              "      <td>2.442576e+06</td>\n",
              "      <td>6156.583333</td>\n",
              "      <td>7055.815940</td>\n",
              "      <td>1.262071e+06</td>\n",
              "    </tr>\n",
              "    <tr>\n",
              "      <th>3</th>\n",
              "      <td>2019-09-04</td>\n",
              "      <td>177.194583</td>\n",
              "      <td>177.937917</td>\n",
              "      <td>176.277083</td>\n",
              "      <td>177.027917</td>\n",
              "      <td>11926.093821</td>\n",
              "      <td>2.109558e+06</td>\n",
              "      <td>5845.750000</td>\n",
              "      <td>6289.365111</td>\n",
              "      <td>1.112851e+06</td>\n",
              "    </tr>\n",
              "    <tr>\n",
              "      <th>4</th>\n",
              "      <td>2019-09-05</td>\n",
              "      <td>173.012500</td>\n",
              "      <td>173.705417</td>\n",
              "      <td>172.214167</td>\n",
              "      <td>172.975000</td>\n",
              "      <td>9698.076498</td>\n",
              "      <td>1.676979e+06</td>\n",
              "      <td>5142.666667</td>\n",
              "      <td>4995.959990</td>\n",
              "      <td>8.643510e+05</td>\n",
              "    </tr>\n",
              "  </tbody>\n",
              "</table>\n",
              "</div>\n",
              "      <button class=\"colab-df-convert\" onclick=\"convertToInteractive('df-1bfb9be8-fb8b-4f8d-9354-85625d1a05ae')\"\n",
              "              title=\"Convert this dataframe to an interactive table.\"\n",
              "              style=\"display:none;\">\n",
              "        \n",
              "  <svg xmlns=\"http://www.w3.org/2000/svg\" height=\"24px\"viewBox=\"0 0 24 24\"\n",
              "       width=\"24px\">\n",
              "    <path d=\"M0 0h24v24H0V0z\" fill=\"none\"/>\n",
              "    <path d=\"M18.56 5.44l.94 2.06.94-2.06 2.06-.94-2.06-.94-.94-2.06-.94 2.06-2.06.94zm-11 1L8.5 8.5l.94-2.06 2.06-.94-2.06-.94L8.5 2.5l-.94 2.06-2.06.94zm10 10l.94 2.06.94-2.06 2.06-.94-2.06-.94-.94-2.06-.94 2.06-2.06.94z\"/><path d=\"M17.41 7.96l-1.37-1.37c-.4-.4-.92-.59-1.43-.59-.52 0-1.04.2-1.43.59L10.3 9.45l-7.72 7.72c-.78.78-.78 2.05 0 2.83L4 21.41c.39.39.9.59 1.41.59.51 0 1.02-.2 1.41-.59l7.78-7.78 2.81-2.81c.8-.78.8-2.07 0-2.86zM5.41 20L4 18.59l7.72-7.72 1.47 1.35L5.41 20z\"/>\n",
              "  </svg>\n",
              "      </button>\n",
              "      \n",
              "  <style>\n",
              "    .colab-df-container {\n",
              "      display:flex;\n",
              "      flex-wrap:wrap;\n",
              "      gap: 12px;\n",
              "    }\n",
              "\n",
              "    .colab-df-convert {\n",
              "      background-color: #E8F0FE;\n",
              "      border: none;\n",
              "      border-radius: 50%;\n",
              "      cursor: pointer;\n",
              "      display: none;\n",
              "      fill: #1967D2;\n",
              "      height: 32px;\n",
              "      padding: 0 0 0 0;\n",
              "      width: 32px;\n",
              "    }\n",
              "\n",
              "    .colab-df-convert:hover {\n",
              "      background-color: #E2EBFA;\n",
              "      box-shadow: 0px 1px 2px rgba(60, 64, 67, 0.3), 0px 1px 3px 1px rgba(60, 64, 67, 0.15);\n",
              "      fill: #174EA6;\n",
              "    }\n",
              "\n",
              "    [theme=dark] .colab-df-convert {\n",
              "      background-color: #3B4455;\n",
              "      fill: #D2E3FC;\n",
              "    }\n",
              "\n",
              "    [theme=dark] .colab-df-convert:hover {\n",
              "      background-color: #434B5C;\n",
              "      box-shadow: 0px 1px 3px 1px rgba(0, 0, 0, 0.15);\n",
              "      filter: drop-shadow(0px 1px 2px rgba(0, 0, 0, 0.3));\n",
              "      fill: #FFFFFF;\n",
              "    }\n",
              "  </style>\n",
              "\n",
              "      <script>\n",
              "        const buttonEl =\n",
              "          document.querySelector('#df-1bfb9be8-fb8b-4f8d-9354-85625d1a05ae button.colab-df-convert');\n",
              "        buttonEl.style.display =\n",
              "          google.colab.kernel.accessAllowed ? 'block' : 'none';\n",
              "\n",
              "        async function convertToInteractive(key) {\n",
              "          const element = document.querySelector('#df-1bfb9be8-fb8b-4f8d-9354-85625d1a05ae');\n",
              "          const dataTable =\n",
              "            await google.colab.kernel.invokeFunction('convertToInteractive',\n",
              "                                                     [key], {});\n",
              "          if (!dataTable) return;\n",
              "\n",
              "          const docLinkHtml = 'Like what you see? Visit the ' +\n",
              "            '<a target=\"_blank\" href=https://colab.research.google.com/notebooks/data_table.ipynb>data table notebook</a>'\n",
              "            + ' to learn more about interactive tables.';\n",
              "          element.innerHTML = '';\n",
              "          dataTable['output_type'] = 'display_data';\n",
              "          await google.colab.output.renderOutput(dataTable, element);\n",
              "          const docLink = document.createElement('div');\n",
              "          docLink.innerHTML = docLinkHtml;\n",
              "          element.appendChild(docLink);\n",
              "        }\n",
              "      </script>\n",
              "    </div>\n",
              "  </div>\n",
              "  "
            ]
          },
          "metadata": {},
          "execution_count": 30
        }
      ],
      "source": [
        "# ETH Daily resampling taking the mean value\n",
        "\n",
        "data_ETH.set_index('date', inplace=True)  # Set 'date' column as the index\n",
        "\n",
        "ETH_daily = data_ETH.resample('24H').mean()\n",
        "ETH_daily = ETH_daily.reset_index()\n",
        "\n",
        "ETH_daily.head()"
      ]
    },
    {
      "cell_type": "code",
      "source": [
        "# Train/Test Split\n",
        "\n",
        "split_date_day = \"2022-09-01\"\n",
        "\n",
        "train_split_day = ETH_daily['date'] <= split_date_day\n",
        "test_split_day = ETH_daily['date'] > split_date_day\n",
        "\n",
        "train_ar_day = ETH_daily[train_split_day]\n",
        "test_ar_day = ETH_daily[test_split_day]\n",
        "\n",
        "columns_day = ['open', 'high', 'low', 'Volume', 'quote_volume', 'taker_buy_volume', 'taker_buy_quote_volume']\n",
        "\n",
        "X_train_d, y_train_d = train_ar_day[columns_day], train_ar_day.close\n",
        "X_test_d, y_test_d = test_ar_day[columns_day], test_ar_day.close"
      ],
      "metadata": {
        "id": "q4PD7AwzBX2P"
      },
      "execution_count": 31,
      "outputs": []
    },
    {
      "cell_type": "code",
      "source": [
        "# Creating a list of values\n",
        "\n",
        "training_list_d = list(y_train_d)\n",
        "test_list_d = list(y_test_d)"
      ],
      "metadata": {
        "id": "BeAyyWgsBa32"
      },
      "execution_count": 32,
      "outputs": []
    },
    {
      "cell_type": "code",
      "source": [
        "len(y_train_d), len(y_test_d)"
      ],
      "metadata": {
        "colab": {
          "base_uri": "https://localhost:8080/"
        },
        "id": "A8g7v5ZnBcd1",
        "outputId": "b6c3b1e5-3d5a-462e-f38c-919700d536b7"
      },
      "execution_count": 33,
      "outputs": [
        {
          "output_type": "execute_result",
          "data": {
            "text/plain": [
              "(1097, 272)"
            ]
          },
          "metadata": {},
          "execution_count": 33
        }
      ]
    },
    {
      "cell_type": "code",
      "source": [
        "# Predict the values aggregating to the training list, the next value of the test list in a for loop\n",
        "\n",
        "daily_predictions = []\n",
        "\n",
        "for i in range(len(y_test_d)):\n",
        "  model_d = ARIMA(training_list_d, order=(2,1,2))\n",
        "  model_fit_d = model_d.fit()\n",
        "  daily_forecast = model_fit_d.forecast()[0]\n",
        "\n",
        "  daily_predictions.append(daily_forecast)\n",
        "\n",
        "  # Value in the test set for the i iteration\n",
        "  test_i = test_list_d[i]\n",
        "\n",
        "  training_list_d.append(test_i)\n"
      ],
      "metadata": {
        "id": "sFNqILzkBe8F"
      },
      "execution_count": 34,
      "outputs": []
    },
    {
      "cell_type": "code",
      "source": [
        "len(daily_predictions)"
      ],
      "metadata": {
        "colab": {
          "base_uri": "https://localhost:8080/"
        },
        "id": "rwwXq0-aDnHY",
        "outputId": "a9e6fd10-560b-4699-e707-329a6cc49852"
      },
      "execution_count": 35,
      "outputs": [
        {
          "output_type": "execute_result",
          "data": {
            "text/plain": [
              "272"
            ]
          },
          "metadata": {},
          "execution_count": 35
        }
      ]
    },
    {
      "cell_type": "code",
      "source": [
        "model_fit_d.summary()"
      ],
      "metadata": {
        "colab": {
          "base_uri": "https://localhost:8080/",
          "height": 472
        },
        "id": "NXmhEZN8D8gp",
        "outputId": "600addba-0305-4409-e2dd-2bd4921aefbd"
      },
      "execution_count": 36,
      "outputs": [
        {
          "output_type": "execute_result",
          "data": {
            "text/plain": [
              "<class 'statsmodels.iolib.summary.Summary'>\n",
              "\"\"\"\n",
              "                               SARIMAX Results                                \n",
              "==============================================================================\n",
              "Dep. Variable:                      y   No. Observations:                 1368\n",
              "Model:                 ARIMA(2, 1, 2)   Log Likelihood               -7755.774\n",
              "Date:                Wed, 21 Jun 2023   AIC                          15521.548\n",
              "Time:                        17:26:20   BIC                          15547.650\n",
              "Sample:                             0   HQIC                         15531.317\n",
              "                               - 1368                                         \n",
              "Covariance Type:                  opg                                         \n",
              "==============================================================================\n",
              "                 coef    std err          z      P>|z|      [0.025      0.975]\n",
              "------------------------------------------------------------------------------\n",
              "ar.L1         -1.0462      0.074    -14.153      0.000      -1.191      -0.901\n",
              "ar.L2         -0.1036      0.075     -1.380      0.168      -0.251       0.044\n",
              "ma.L1          1.2674      0.070     18.106      0.000       1.130       1.405\n",
              "ma.L2          0.3488      0.070      4.987      0.000       0.212       0.486\n",
              "sigma2      4960.0423     87.018     57.000      0.000    4789.491    5130.594\n",
              "===================================================================================\n",
              "Ljung-Box (L1) (Q):                   0.00   Jarque-Bera (JB):              5000.99\n",
              "Prob(Q):                              0.94   Prob(JB):                         0.00\n",
              "Heteroskedasticity (H):              39.62   Skew:                            -1.15\n",
              "Prob(H) (two-sided):                  0.00   Kurtosis:                        12.09\n",
              "===================================================================================\n",
              "\n",
              "Warnings:\n",
              "[1] Covariance matrix calculated using the outer product of gradients (complex-step).\n",
              "\"\"\""
            ],
            "text/html": [
              "<table class=\"simpletable\">\n",
              "<caption>SARIMAX Results</caption>\n",
              "<tr>\n",
              "  <th>Dep. Variable:</th>           <td>y</td>        <th>  No. Observations:  </th>   <td>1368</td>   \n",
              "</tr>\n",
              "<tr>\n",
              "  <th>Model:</th>            <td>ARIMA(2, 1, 2)</td>  <th>  Log Likelihood     </th> <td>-7755.774</td>\n",
              "</tr>\n",
              "<tr>\n",
              "  <th>Date:</th>            <td>Wed, 21 Jun 2023</td> <th>  AIC                </th> <td>15521.548</td>\n",
              "</tr>\n",
              "<tr>\n",
              "  <th>Time:</th>                <td>17:26:20</td>     <th>  BIC                </th> <td>15547.650</td>\n",
              "</tr>\n",
              "<tr>\n",
              "  <th>Sample:</th>                  <td>0</td>        <th>  HQIC               </th> <td>15531.317</td>\n",
              "</tr>\n",
              "<tr>\n",
              "  <th></th>                      <td> - 1368</td>     <th>                     </th>     <td> </td>    \n",
              "</tr>\n",
              "<tr>\n",
              "  <th>Covariance Type:</th>        <td>opg</td>       <th>                     </th>     <td> </td>    \n",
              "</tr>\n",
              "</table>\n",
              "<table class=\"simpletable\">\n",
              "<tr>\n",
              "     <td></td>       <th>coef</th>     <th>std err</th>      <th>z</th>      <th>P>|z|</th>  <th>[0.025</th>    <th>0.975]</th>  \n",
              "</tr>\n",
              "<tr>\n",
              "  <th>ar.L1</th>  <td>   -1.0462</td> <td>    0.074</td> <td>  -14.153</td> <td> 0.000</td> <td>   -1.191</td> <td>   -0.901</td>\n",
              "</tr>\n",
              "<tr>\n",
              "  <th>ar.L2</th>  <td>   -0.1036</td> <td>    0.075</td> <td>   -1.380</td> <td> 0.168</td> <td>   -0.251</td> <td>    0.044</td>\n",
              "</tr>\n",
              "<tr>\n",
              "  <th>ma.L1</th>  <td>    1.2674</td> <td>    0.070</td> <td>   18.106</td> <td> 0.000</td> <td>    1.130</td> <td>    1.405</td>\n",
              "</tr>\n",
              "<tr>\n",
              "  <th>ma.L2</th>  <td>    0.3488</td> <td>    0.070</td> <td>    4.987</td> <td> 0.000</td> <td>    0.212</td> <td>    0.486</td>\n",
              "</tr>\n",
              "<tr>\n",
              "  <th>sigma2</th> <td> 4960.0423</td> <td>   87.018</td> <td>   57.000</td> <td> 0.000</td> <td> 4789.491</td> <td> 5130.594</td>\n",
              "</tr>\n",
              "</table>\n",
              "<table class=\"simpletable\">\n",
              "<tr>\n",
              "  <th>Ljung-Box (L1) (Q):</th>     <td>0.00</td>  <th>  Jarque-Bera (JB):  </th> <td>5000.99</td>\n",
              "</tr>\n",
              "<tr>\n",
              "  <th>Prob(Q):</th>                <td>0.94</td>  <th>  Prob(JB):          </th>  <td>0.00</td>  \n",
              "</tr>\n",
              "<tr>\n",
              "  <th>Heteroskedasticity (H):</th> <td>39.62</td> <th>  Skew:              </th>  <td>-1.15</td> \n",
              "</tr>\n",
              "<tr>\n",
              "  <th>Prob(H) (two-sided):</th>    <td>0.00</td>  <th>  Kurtosis:          </th>  <td>12.09</td> \n",
              "</tr>\n",
              "</table><br/><br/>Warnings:<br/>[1] Covariance matrix calculated using the outer product of gradients (complex-step)."
            ]
          },
          "metadata": {},
          "execution_count": 36
        }
      ]
    },
    {
      "cell_type": "markdown",
      "source": [
        "### Plots Daily"
      ],
      "metadata": {
        "id": "17uVLgejDz5G"
      }
    },
    {
      "cell_type": "code",
      "source": [
        "# Plot whole timeframe\n",
        "\n",
        "test_ar_day['Daily_Forecast_ARIMA'] = daily_predictions\n",
        "\n",
        "day_df = pd.concat([train_ar_day, test_ar_day], sort=False)\n",
        "\n",
        "plt.figure(figsize=(15, 5))\n",
        "\n",
        "plt.plot(day_df['date'][- len(y_test_d):], day_df['close'][- len(y_test_d):], label='Actual Closing Price')\n",
        "plt.plot(day_df['date'][- len(y_test_d):], day_df['Daily_Forecast_ARIMA'][- len(y_test_d):], label='Forecasted Price')\n",
        "\n",
        "plt.xlabel('Date')\n",
        "plt.ylabel('Price')\n",
        "\n",
        "plt.title('Actual Closing Price vs. Forecasted Price (Daily)')\n",
        "\n",
        "plt.legend()\n",
        "\n",
        "plt.show();"
      ],
      "metadata": {
        "id": "NyeAyDh3YDUm",
        "colab": {
          "base_uri": "https://localhost:8080/",
          "height": 480
        },
        "outputId": "aec5795e-5251-46b1-f3ed-988b99b56986"
      },
      "execution_count": 37,
      "outputs": [
        {
          "output_type": "display_data",
          "data": {
            "text/plain": [
              "<Figure size 1500x500 with 1 Axes>"
            ],
            "image/png": "[encoded data removed]"
          },
          "metadata": {}
        }
      ]
    },
    {
      "cell_type": "code",
      "source": [
        "# Results ARIMA Daily Model\n",
        "\n",
        "test_mae_ar = round(mean_absolute_error(test_ar_day['close'], test_ar_day['Daily_Forecast_ARIMA']))\n",
        "test_rmse_ar = round(np.sqrt(mean_squared_error(test_ar_day['close'], test_ar_day['Daily_Forecast_ARIMA'])))\n",
        "test_r2_ar = round((r2_score(test_ar_day['close'], test_ar_day['Daily_Forecast_ARIMA']))*100, 2)\n",
        "\n",
        "print(f\"test MAE ARIMA : {test_mae_ar}\")\n",
        "print(f\"test RMSE ARIMA : {test_rmse_ar}\")\n",
        "print(f\"test R2 ARIMA : {test_r2_ar}\")"
      ],
      "metadata": {
        "id": "fm1pP9iB9VSM",
        "colab": {
          "base_uri": "https://localhost:8080/"
        },
        "outputId": "cf076e30-4252-4dcb-e9ec-f2022bd8b058"
      },
      "execution_count": 38,
      "outputs": [
        {
          "output_type": "stream",
          "name": "stdout",
          "text": [
            "test MAE ARIMA : 29\n",
            "test RMSE ARIMA : 40\n",
            "test R2 ARIMA : 97.48\n"
          ]
        }
      ]
    },
    {
      "cell_type": "code",
      "source": [
        "# save model\n",
        "model_fit_d.save(\"/content/drive/MyDrive/ARIMA_d_ETH_(2,1,2).pkl\")\n",
        "\n",
        "# # # load model\n",
        "# loaded = ARIMAResults.load('model.pkl')"
      ],
      "metadata": {
        "id": "y3qnnNSMFavB"
      },
      "execution_count": 23,
      "outputs": []
    },
    {
      "cell_type": "markdown",
      "source": [
        "## Hourly Dataframe"
      ],
      "metadata": {
        "id": "FxZzLs5yRzvL"
      }
    },
    {
      "cell_type": "code",
      "source": [
        "data_ETH.reset_index(inplace = True)"
      ],
      "metadata": {
        "id": "5yWXi9Q5HGGb"
      },
      "execution_count": 24,
      "outputs": []
    },
    {
      "cell_type": "code",
      "source": [
        "# Train/Test Split\n",
        "\n",
        "split_date = \"2023-05-12\"\n",
        "\n",
        "train_split = data_ETH['date'] <= split_date\n",
        "test_split = data_ETH['date'] > split_date\n",
        "\n",
        "train_ar = data_ETH[train_split]\n",
        "test_ar = data_ETH[test_split]\n",
        "\n",
        "columns = ['open', 'high', 'low', 'Volume', 'quote_volume', 'taker_buy_volume', 'taker_buy_quote_volume']\n",
        "\n",
        "X_train, y_train = train_ar[columns], train_ar.close\n",
        "X_test, y_test = test_ar[columns], test_ar.close"
      ],
      "metadata": {
        "id": "wSaPwFHVT9hR"
      },
      "execution_count": 20,
      "outputs": []
    },
    {
      "cell_type": "code",
      "source": [
        "training_list = list(y_train)\n",
        "test_list = list(y_test)"
      ],
      "metadata": {
        "id": "zmi99QxYyKmn"
      },
      "execution_count": 21,
      "outputs": []
    },
    {
      "cell_type": "code",
      "source": [
        "len(training_list), len(test_list)"
      ],
      "metadata": {
        "colab": {
          "base_uri": "https://localhost:8080/"
        },
        "id": "ApOyjfer_Vsv",
        "outputId": "d5b79013-4230-4566-ced3-15df98efa97d"
      },
      "execution_count": 22,
      "outputs": [
        {
          "output_type": "execute_result",
          "data": {
            "text/plain": [
              "(32342, 479)"
            ]
          },
          "metadata": {},
          "execution_count": 22
        }
      ]
    },
    {
      "cell_type": "code",
      "source": [
        "# Predict the values aggregating to the training list, the next value of the test list in a for loop\n",
        "\n",
        "hourly_predictions = []\n",
        "\n",
        "for i in range(len(y_test)):\n",
        "  model = ARIMA(training_list, order=(2,1,1))\n",
        "  model_fit = model.fit()\n",
        "  hourly_forecast = model_fit.forecast()[0]\n",
        "\n",
        "  # Value in the test set for the i iteration\n",
        "  hourly_predictions.append(hourly_forecast)\n",
        "\n",
        "  test_i = test_list[i]\n",
        "\n",
        "  training_list.append(test_i)\n",
        "\n",
        "\n"
      ],
      "metadata": {
        "id": "RCsQoE779HMG"
      },
      "execution_count": null,
      "outputs": []
    },
    {
      "cell_type": "code",
      "source": [
        "model_fit.summary()"
      ],
      "metadata": {
        "id": "e9PbMBeQu8Mj",
        "colab": {
          "base_uri": "https://localhost:8080/",
          "height": 450
        },
        "outputId": "1c6457cb-9e7d-4732-de5d-ebde9573f32b"
      },
      "execution_count": 26,
      "outputs": [
        {
          "output_type": "execute_result",
          "data": {
            "text/plain": [
              "<class 'statsmodels.iolib.summary.Summary'>\n",
              "\"\"\"\n",
              "                               SARIMAX Results                                \n",
              "==============================================================================\n",
              "Dep. Variable:                      y   No. Observations:                32820\n",
              "Model:                 ARIMA(2, 1, 1)   Log Likelihood             -142634.107\n",
              "Date:                Wed, 21 Jun 2023   AIC                         285276.215\n",
              "Time:                        17:20:05   BIC                         285309.810\n",
              "Sample:                             0   HQIC                        285286.948\n",
              "                              - 32820                                         \n",
              "Covariance Type:                  opg                                         \n",
              "==============================================================================\n",
              "                 coef    std err          z      P>|z|      [0.025      0.975]\n",
              "------------------------------------------------------------------------------\n",
              "ar.L1          0.4347      0.047      9.318      0.000       0.343       0.526\n",
              "ar.L2         -0.0431      0.002    -18.006      0.000      -0.048      -0.038\n",
              "ma.L1         -0.4240      0.047     -9.043      0.000      -0.516      -0.332\n",
              "sigma2       348.4722      0.684    509.559      0.000     347.132     349.813\n",
              "===================================================================================\n",
              "Ljung-Box (L1) (Q):                   0.00   Jarque-Bera (JB):           1218348.74\n",
              "Prob(Q):                              0.98   Prob(JB):                         0.00\n",
              "Heteroskedasticity (H):              36.03   Skew:                            -1.20\n",
              "Prob(H) (two-sided):                  0.00   Kurtosis:                        32.75\n",
              "===================================================================================\n",
              "\n",
              "Warnings:\n",
              "[1] Covariance matrix calculated using the outer product of gradients (complex-step).\n",
              "\"\"\""
            ],
            "text/html": [
              "<table class=\"simpletable\">\n",
              "<caption>SARIMAX Results</caption>\n",
              "<tr>\n",
              "  <th>Dep. Variable:</th>           <td>y</td>        <th>  No. Observations:  </th>    <td>32820</td>   \n",
              "</tr>\n",
              "<tr>\n",
              "  <th>Model:</th>            <td>ARIMA(2, 1, 1)</td>  <th>  Log Likelihood     </th> <td>-142634.107</td>\n",
              "</tr>\n",
              "<tr>\n",
              "  <th>Date:</th>            <td>Wed, 21 Jun 2023</td> <th>  AIC                </th> <td>285276.215</td> \n",
              "</tr>\n",
              "<tr>\n",
              "  <th>Time:</th>                <td>17:20:05</td>     <th>  BIC                </th> <td>285309.810</td> \n",
              "</tr>\n",
              "<tr>\n",
              "  <th>Sample:</th>                  <td>0</td>        <th>  HQIC               </th> <td>285286.948</td> \n",
              "</tr>\n",
              "<tr>\n",
              "  <th></th>                     <td> - 32820</td>     <th>                     </th>      <td> </td>     \n",
              "</tr>\n",
              "<tr>\n",
              "  <th>Covariance Type:</th>        <td>opg</td>       <th>                     </th>      <td> </td>     \n",
              "</tr>\n",
              "</table>\n",
              "<table class=\"simpletable\">\n",
              "<tr>\n",
              "     <td></td>       <th>coef</th>     <th>std err</th>      <th>z</th>      <th>P>|z|</th>  <th>[0.025</th>    <th>0.975]</th>  \n",
              "</tr>\n",
              "<tr>\n",
              "  <th>ar.L1</th>  <td>    0.4347</td> <td>    0.047</td> <td>    9.318</td> <td> 0.000</td> <td>    0.343</td> <td>    0.526</td>\n",
              "</tr>\n",
              "<tr>\n",
              "  <th>ar.L2</th>  <td>   -0.0431</td> <td>    0.002</td> <td>  -18.006</td> <td> 0.000</td> <td>   -0.048</td> <td>   -0.038</td>\n",
              "</tr>\n",
              "<tr>\n",
              "  <th>ma.L1</th>  <td>   -0.4240</td> <td>    0.047</td> <td>   -9.043</td> <td> 0.000</td> <td>   -0.516</td> <td>   -0.332</td>\n",
              "</tr>\n",
              "<tr>\n",
              "  <th>sigma2</th> <td>  348.4722</td> <td>    0.684</td> <td>  509.559</td> <td> 0.000</td> <td>  347.132</td> <td>  349.813</td>\n",
              "</tr>\n",
              "</table>\n",
              "<table class=\"simpletable\">\n",
              "<tr>\n",
              "  <th>Ljung-Box (L1) (Q):</th>     <td>0.00</td>  <th>  Jarque-Bera (JB):  </th> <td>1218348.74</td>\n",
              "</tr>\n",
              "<tr>\n",
              "  <th>Prob(Q):</th>                <td>0.98</td>  <th>  Prob(JB):          </th>    <td>0.00</td>   \n",
              "</tr>\n",
              "<tr>\n",
              "  <th>Heteroskedasticity (H):</th> <td>36.03</td> <th>  Skew:              </th>    <td>-1.20</td>  \n",
              "</tr>\n",
              "<tr>\n",
              "  <th>Prob(H) (two-sided):</th>    <td>0.00</td>  <th>  Kurtosis:          </th>    <td>32.75</td>  \n",
              "</tr>\n",
              "</table><br/><br/>Warnings:<br/>[1] Covariance matrix calculated using the outer product of gradients (complex-step)."
            ]
          },
          "metadata": {},
          "execution_count": 26
        }
      ]
    },
    {
      "cell_type": "markdown",
      "source": [
        "### Plots Hourly"
      ],
      "metadata": {
        "id": "SmmrwHRPIjTD"
      }
    },
    {
      "cell_type": "code",
      "source": [
        "# Plot whole timeframe\n",
        "\n",
        "test_ar['Hourly_Forecast_ARIMA'] = hourly_predictions\n",
        "\n",
        "hour_df = pd.concat([train_ar, test_ar], sort=False)\n",
        "\n",
        "\n",
        "plt.figure(figsize=(15, 5))\n",
        "\n",
        "plt.plot(hour_df['date'][- len(y_test):], hour_df['close'][- len(y_test):], label='Actual Closing Price')\n",
        "plt.plot(hour_df['date'][- len(y_test):], hour_df['Hourly_Forecast_ARIMA'][- len(y_test):], label='Forecasted Price')\n",
        "\n",
        "plt.xlabel('Date')\n",
        "plt.ylabel('Price')\n",
        "\n",
        "plt.title('Actual Closing Price vs. Forecasted Price (Hourly)')\n",
        "\n",
        "plt.legend()\n",
        "\n",
        "plt.show();"
      ],
      "metadata": {
        "id": "vbjUZLz1IjTD",
        "colab": {
          "base_uri": "https://localhost:8080/",
          "height": 480
        },
        "outputId": "606ce10c-be2b-4ee7-b036-2f9b6ac52c65"
      },
      "execution_count": 27,
      "outputs": [
        {
          "output_type": "display_data",
          "data": {
            "text/plain": [
              "<Figure size 1500x500 with 1 Axes>"
            ],
            "image/png": "[encoded data removed]"
          },
          "metadata": {}
        }
      ]
    },
    {
      "cell_type": "code",
      "source": [
        "# Results ARIMA Hourly Model\n",
        "\n",
        "test_mae_ar_h = round(mean_absolute_error(test_ar['close'], test_ar['Hourly_Forecast_ARIMA']))\n",
        "test_rmse_ar_h = round(np.sqrt(mean_squared_error(test_ar['close'], test_ar['Hourly_Forecast_ARIMA'])))\n",
        "test_r2_ar_h = round((r2_score(test_ar['close'], test_ar['Hourly_Forecast_ARIMA']))*100, 2)\n",
        "\n",
        "\n",
        "print(f\"test MAE ARIMA : {test_mae_ar_h}\")\n",
        "print(f\"test RMSE ARIMA : {test_rmse_ar_h}\")\n",
        "print(f\"test R2 ARIMA : {test_r2_ar_h}\")"
      ],
      "metadata": {
        "id": "c8cQgNAGIjTE",
        "colab": {
          "base_uri": "https://localhost:8080/"
        },
        "outputId": "9509cd15-6f5d-4cf4-b98b-2cd79796fb58"
      },
      "execution_count": 28,
      "outputs": [
        {
          "output_type": "stream",
          "name": "stdout",
          "text": [
            "test MAE ARIMA : 4\n",
            "test RMSE ARIMA : 6\n",
            "test R2 ARIMA : 96.95\n"
          ]
        }
      ]
    },
    {
      "cell_type": "code",
      "source": [
        "# save model\n",
        "model_fit.save(\"/content/drive/MyDrive/ARIMA_h_ETH_(2,1,1).pkl\")\n",
        "\n",
        "# # # load model\n",
        "# loaded = ARIMAResults.load('model.pkl')"
      ],
      "metadata": {
        "id": "GWZgxAtfIjTE"
      },
      "execution_count": 29,
      "outputs": []
    },
    {
      "cell_type": "markdown",
      "source": [
        "## Results Modeling"
      ],
      "metadata": {
        "id": "tj3o2yPh-cN3"
      }
    },
    {
      "cell_type": "code",
      "source": [
        "# Overall Results\n",
        "\n",
        "results = {\n",
        "    \"METRIC\": [\"MAE\", \"RMSE\", \"R2\"],\n",
        "    \"ARIMA_Daily\": [test_mae_ar, test_rmse_ar, test_r2_ar],\n",
        "    \"ARIMA_Hourly\": [test_mae_ar_h, test_rmse_ar_h, test_r2_ar_h]\n",
        "\n",
        "}\n",
        "\n",
        "df_results = pd.DataFrame(results)\n",
        "df_results"
      ],
      "metadata": {
        "id": "ES9WngVh8Nvo",
        "colab": {
          "base_uri": "https://localhost:8080/",
          "height": 143
        },
        "outputId": "912f2fac-8369-4527-f6e0-32821c4bd091"
      },
      "execution_count": 39,
      "outputs": [
        {
          "output_type": "execute_result",
          "data": {
            "text/plain": [
              "  METRIC  ARIMA_Daily  ARIMA_Hourly\n",
              "0    MAE        29.00          4.00\n",
              "1   RMSE        40.00          6.00\n",
              "2     R2        97.48         96.95"
            ],
            "text/html": [
              "\n",
              "  <div id=\"df-ab9fc183-93c9-4198-a033-79c46e96af26\">\n",
              "    <div class=\"colab-df-container\">\n",
              "      <div>\n",
              "<style scoped>\n",
              "    .dataframe tbody tr th:only-of-type {\n",
              "        vertical-align: middle;\n",
              "    }\n",
              "\n",
              "    .dataframe tbody tr th {\n",
              "        vertical-align: top;\n",
              "    }\n",
              "\n",
              "    .dataframe thead th {\n",
              "        text-align: right;\n",
              "    }\n",
              "</style>\n",
              "<table border=\"1\" class=\"dataframe\">\n",
              "  <thead>\n",
              "    <tr style=\"text-align: right;\">\n",
              "      <th></th>\n",
              "      <th>METRIC</th>\n",
              "      <th>ARIMA_Daily</th>\n",
              "      <th>ARIMA_Hourly</th>\n",
              "    </tr>\n",
              "  </thead>\n",
              "  <tbody>\n",
              "    <tr>\n",
              "      <th>0</th>\n",
              "      <td>MAE</td>\n",
              "      <td>29.00</td>\n",
              "      <td>4.00</td>\n",
              "    </tr>\n",
              "    <tr>\n",
              "      <th>1</th>\n",
              "      <td>RMSE</td>\n",
              "      <td>40.00</td>\n",
              "      <td>6.00</td>\n",
              "    </tr>\n",
              "    <tr>\n",
              "      <th>2</th>\n",
              "      <td>R2</td>\n",
              "      <td>97.48</td>\n",
              "      <td>96.95</td>\n",
              "    </tr>\n",
              "  </tbody>\n",
              "</table>\n",
              "</div>\n",
              "      <button class=\"colab-df-convert\" onclick=\"convertToInteractive('df-ab9fc183-93c9-4198-a033-79c46e96af26')\"\n",
              "              title=\"Convert this dataframe to an interactive table.\"\n",
              "              style=\"display:none;\">\n",
              "        \n",
              "  <svg xmlns=\"http://www.w3.org/2000/svg\" height=\"24px\"viewBox=\"0 0 24 24\"\n",
              "       width=\"24px\">\n",
              "    <path d=\"M0 0h24v24H0V0z\" fill=\"none\"/>\n",
              "    <path d=\"M18.56 5.44l.94 2.06.94-2.06 2.06-.94-2.06-.94-.94-2.06-.94 2.06-2.06.94zm-11 1L8.5 8.5l.94-2.06 2.06-.94-2.06-.94L8.5 2.5l-.94 2.06-2.06.94zm10 10l.94 2.06.94-2.06 2.06-.94-2.06-.94-.94-2.06-.94 2.06-2.06.94z\"/><path d=\"M17.41 7.96l-1.37-1.37c-.4-.4-.92-.59-1.43-.59-.52 0-1.04.2-1.43.59L10.3 9.45l-7.72 7.72c-.78.78-.78 2.05 0 2.83L4 21.41c.39.39.9.59 1.41.59.51 0 1.02-.2 1.41-.59l7.78-7.78 2.81-2.81c.8-.78.8-2.07 0-2.86zM5.41 20L4 18.59l7.72-7.72 1.47 1.35L5.41 20z\"/>\n",
              "  </svg>\n",
              "      </button>\n",
              "      \n",
              "  <style>\n",
              "    .colab-df-container {\n",
              "      display:flex;\n",
              "      flex-wrap:wrap;\n",
              "      gap: 12px;\n",
              "    }\n",
              "\n",
              "    .colab-df-convert {\n",
              "      background-color: #E8F0FE;\n",
              "      border: none;\n",
              "      border-radius: 50%;\n",
              "      cursor: pointer;\n",
              "      display: none;\n",
              "      fill: #1967D2;\n",
              "      height: 32px;\n",
              "      padding: 0 0 0 0;\n",
              "      width: 32px;\n",
              "    }\n",
              "\n",
              "    .colab-df-convert:hover {\n",
              "      background-color: #E2EBFA;\n",
              "      box-shadow: 0px 1px 2px rgba(60, 64, 67, 0.3), 0px 1px 3px 1px rgba(60, 64, 67, 0.15);\n",
              "      fill: #174EA6;\n",
              "    }\n",
              "\n",
              "    [theme=dark] .colab-df-convert {\n",
              "      background-color: #3B4455;\n",
              "      fill: #D2E3FC;\n",
              "    }\n",
              "\n",
              "    [theme=dark] .colab-df-convert:hover {\n",
              "      background-color: #434B5C;\n",
              "      box-shadow: 0px 1px 3px 1px rgba(0, 0, 0, 0.15);\n",
              "      filter: drop-shadow(0px 1px 2px rgba(0, 0, 0, 0.3));\n",
              "      fill: #FFFFFF;\n",
              "    }\n",
              "  </style>\n",
              "\n",
              "      <script>\n",
              "        const buttonEl =\n",
              "          document.querySelector('#df-ab9fc183-93c9-4198-a033-79c46e96af26 button.colab-df-convert');\n",
              "        buttonEl.style.display =\n",
              "          google.colab.kernel.accessAllowed ? 'block' : 'none';\n",
              "\n",
              "        async function convertToInteractive(key) {\n",
              "          const element = document.querySelector('#df-ab9fc183-93c9-4198-a033-79c46e96af26');\n",
              "          const dataTable =\n",
              "            await google.colab.kernel.invokeFunction('convertToInteractive',\n",
              "                                                     [key], {});\n",
              "          if (!dataTable) return;\n",
              "\n",
              "          const docLinkHtml = 'Like what you see? Visit the ' +\n",
              "            '<a target=\"_blank\" href=https://colab.research.google.com/notebooks/data_table.ipynb>data table notebook</a>'\n",
              "            + ' to learn more about interactive tables.';\n",
              "          element.innerHTML = '';\n",
              "          dataTable['output_type'] = 'display_data';\n",
              "          await google.colab.output.renderOutput(dataTable, element);\n",
              "          const docLink = document.createElement('div');\n",
              "          docLink.innerHTML = docLinkHtml;\n",
              "          element.appendChild(docLink);\n",
              "        }\n",
              "      </script>\n",
              "    </div>\n",
              "  </div>\n",
              "  "
            ]
          },
          "metadata": {},
          "execution_count": 39
        }
      ]
    }
  ]
}